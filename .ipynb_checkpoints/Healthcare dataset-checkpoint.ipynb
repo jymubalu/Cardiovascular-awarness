{
 "cells": [
  {
   "cell_type": "code",
   "execution_count": 122,
   "id": "a19e8962",
   "metadata": {},
   "outputs": [
    {
     "name": "stdout",
     "output_type": "stream",
     "text": [
      "Collecting imbalanced-learn"
     ]
    },
    {
     "name": "stderr",
     "output_type": "stream",
     "text": [
      "ERROR: Could not install packages due to an OSError: [WinError 5] Access is denied: 'C:\\\\Users\\\\jmubalutila\\\\Anaconda3\\\\Lib\\\\site-packages\\\\~klearn\\\\cluster\\\\_dbscan_inner.cp38-win_amd64.pyd'\n",
      "Consider using the `--user` option or check the permissions.\n",
      "\n"
     ]
    },
    {
     "name": "stdout",
     "output_type": "stream",
     "text": [
      "\n",
      "  Downloading imbalanced_learn-0.9.0-py3-none-any.whl (199 kB)\n",
      "Requirement already satisfied: numpy>=1.14.6 in c:\\users\\jmubalutila\\anaconda3\\lib\\site-packages (from imbalanced-learn) (1.20.1)\n",
      "Requirement already satisfied: threadpoolctl>=2.0.0 in c:\\users\\jmubalutila\\anaconda3\\lib\\site-packages (from imbalanced-learn) (2.1.0)\n",
      "Collecting scikit-learn>=1.0.1\n",
      "  Downloading scikit_learn-1.0.2-cp38-cp38-win_amd64.whl (7.2 MB)\n",
      "Requirement already satisfied: scipy>=1.1.0 in c:\\users\\jmubalutila\\anaconda3\\lib\\site-packages (from imbalanced-learn) (1.6.2)\n",
      "Requirement already satisfied: joblib>=0.11 in c:\\users\\jmubalutila\\anaconda3\\lib\\site-packages (from imbalanced-learn) (1.0.1)\n",
      "Installing collected packages: scikit-learn, imbalanced-learn\n",
      "  Attempting uninstall: scikit-learn\n",
      "    Found existing installation: scikit-learn 0.24.1\n",
      "    Uninstalling scikit-learn-0.24.1:\n",
      "      Successfully uninstalled scikit-learn-0.24.1\n"
     ]
    }
   ],
   "source": [
    "!pip install -U imbalanced-learn"
   ]
  },
  {
   "cell_type": "code",
   "execution_count": 124,
   "id": "598ba985",
   "metadata": {},
   "outputs": [
    {
     "name": "stdout",
     "output_type": "stream",
     "text": [
      "Collecting imblearn\n",
      "  Downloading imblearn-0.0-py2.py3-none-any.whl (1.9 kB)\n",
      "Collecting imbalanced-learn\n",
      "  Using cached imbalanced_learn-0.9.0-py3-none-any.whl (199 kB)\n",
      "Requirement already satisfied: scipy>=1.1.0 in c:\\users\\jmubalutila\\anaconda3\\lib\\site-packages (from imbalanced-learn->imblearn) (1.6.2)\n",
      "Requirement already satisfied: threadpoolctl>=2.0.0 in c:\\users\\jmubalutila\\anaconda3\\lib\\site-packages (from imbalanced-learn->imblearn) (2.1.0)\n",
      "Requirement already satisfied: joblib>=0.11 in c:\\users\\jmubalutila\\anaconda3\\lib\\site-packages (from imbalanced-learn->imblearn) (1.0.1)\n",
      "Requirement already satisfied: numpy>=1.14.6 in c:\\users\\jmubalutila\\anaconda3\\lib\\site-packages (from imbalanced-learn->imblearn) (1.20.1)\n",
      "Requirement already satisfied: scikit-learn>=1.0.1 in c:\\users\\jmubalutila\\anaconda3\\lib\\site-packages (from imbalanced-learn->imblearn) (1.0.2)\n",
      "Installing collected packages: imbalanced-learn, imblearn\n",
      "Successfully installed imbalanced-learn-0.9.0 imblearn-0.0\n"
     ]
    }
   ],
   "source": [
    "!pip install imblearn"
   ]
  },
  {
   "cell_type": "code",
   "execution_count": 1,
   "id": "c0d6eb5a",
   "metadata": {},
   "outputs": [],
   "source": [
    "import pandas as pd\n",
    "import numpy as np\n",
    "import matplotlib.pyplot as plt\n",
    "import seaborn as sns\n",
    "%matplotlib inline\n",
    "from sklearn.cluster import KMeans\n",
    "from scipy import stats\n",
    "from sklearn.preprocessing import StandardScaler\n",
    "import sklearn\n",
    "import scipy\n",
    "from sklearn.metrics import classification_report, accuracy_score\n",
    "from sklearn.ensemble import IsolationForest\n",
    "from sklearn.neighbors import LocalOutlierFactor\n",
    "from pylab import rcParams\n",
    "from sklearn.preprocessing import MinMaxScaler\n",
    "from sklearn.svm import OneClassSVM\n",
    "from collections import Counter\n",
    "from sklearn.datasets import make_classification\n",
    "from sklearn.model_selection import train_test_split\n",
    "from imblearn.under_sampling import RandomUnderSampler\n",
    "from imblearn.over_sampling import RandomOverSampler\n",
    "from sklearn.model_selection import KFold\n",
    "from sklearn.model_selection import cross_val_score\n",
    "from sklearn import metrics\n",
    "from sklearn.utils import shuffle\n",
    "import warnings\n",
    "from sklearn.linear_model import LogisticRegression\n",
    "from sklearn.metrics import f1_score, roc_auc_score, roc_curve\n",
    "from imblearn.over_sampling import RandomOverSampler, SMOTE\n",
    "from imblearn.under_sampling import RandomUnderSampler, NearMiss\n",
    "from collections import Counter\n",
    "from sklearn.ensemble import RandomForestClassifier\n",
    "from sklearn.neighbors import KNeighborsClassifier\n",
    "from sklearn.metrics import classification_report, confusion_matrix"
   ]
  },
  {
   "cell_type": "code",
   "execution_count": 2,
   "id": "a74ea0a5",
   "metadata": {},
   "outputs": [],
   "source": [
    "health = pd.read_csv(\"C:/Users/jmubalutila/Documents/CSC169C/Data sets/healthcare-dataset-stroke-data.csv\")"
   ]
  },
  {
   "cell_type": "code",
   "execution_count": 3,
   "id": "567d8cb6",
   "metadata": {},
   "outputs": [
    {
     "data": {
      "text/html": [
       "<div>\n",
       "<style scoped>\n",
       "    .dataframe tbody tr th:only-of-type {\n",
       "        vertical-align: middle;\n",
       "    }\n",
       "\n",
       "    .dataframe tbody tr th {\n",
       "        vertical-align: top;\n",
       "    }\n",
       "\n",
       "    .dataframe thead th {\n",
       "        text-align: right;\n",
       "    }\n",
       "</style>\n",
       "<table border=\"1\" class=\"dataframe\">\n",
       "  <thead>\n",
       "    <tr style=\"text-align: right;\">\n",
       "      <th></th>\n",
       "      <th>id</th>\n",
       "      <th>gender</th>\n",
       "      <th>age</th>\n",
       "      <th>hypertension</th>\n",
       "      <th>heart_disease</th>\n",
       "      <th>ever_married</th>\n",
       "      <th>work_type</th>\n",
       "      <th>Residence_type</th>\n",
       "      <th>avg_glucose_level</th>\n",
       "      <th>bmi</th>\n",
       "      <th>smoking_status</th>\n",
       "      <th>stroke</th>\n",
       "    </tr>\n",
       "  </thead>\n",
       "  <tbody>\n",
       "    <tr>\n",
       "      <th>0</th>\n",
       "      <td>9046</td>\n",
       "      <td>Male</td>\n",
       "      <td>67.0</td>\n",
       "      <td>0</td>\n",
       "      <td>1</td>\n",
       "      <td>Yes</td>\n",
       "      <td>Private</td>\n",
       "      <td>Urban</td>\n",
       "      <td>228.69</td>\n",
       "      <td>36.6</td>\n",
       "      <td>formerly smoked</td>\n",
       "      <td>1</td>\n",
       "    </tr>\n",
       "    <tr>\n",
       "      <th>1</th>\n",
       "      <td>51676</td>\n",
       "      <td>Female</td>\n",
       "      <td>61.0</td>\n",
       "      <td>0</td>\n",
       "      <td>0</td>\n",
       "      <td>Yes</td>\n",
       "      <td>Self-employed</td>\n",
       "      <td>Rural</td>\n",
       "      <td>202.21</td>\n",
       "      <td>NaN</td>\n",
       "      <td>never smoked</td>\n",
       "      <td>1</td>\n",
       "    </tr>\n",
       "    <tr>\n",
       "      <th>2</th>\n",
       "      <td>31112</td>\n",
       "      <td>Male</td>\n",
       "      <td>80.0</td>\n",
       "      <td>0</td>\n",
       "      <td>1</td>\n",
       "      <td>Yes</td>\n",
       "      <td>Private</td>\n",
       "      <td>Rural</td>\n",
       "      <td>105.92</td>\n",
       "      <td>32.5</td>\n",
       "      <td>never smoked</td>\n",
       "      <td>1</td>\n",
       "    </tr>\n",
       "    <tr>\n",
       "      <th>3</th>\n",
       "      <td>60182</td>\n",
       "      <td>Female</td>\n",
       "      <td>49.0</td>\n",
       "      <td>0</td>\n",
       "      <td>0</td>\n",
       "      <td>Yes</td>\n",
       "      <td>Private</td>\n",
       "      <td>Urban</td>\n",
       "      <td>171.23</td>\n",
       "      <td>34.4</td>\n",
       "      <td>smokes</td>\n",
       "      <td>1</td>\n",
       "    </tr>\n",
       "    <tr>\n",
       "      <th>4</th>\n",
       "      <td>1665</td>\n",
       "      <td>Female</td>\n",
       "      <td>79.0</td>\n",
       "      <td>1</td>\n",
       "      <td>0</td>\n",
       "      <td>Yes</td>\n",
       "      <td>Self-employed</td>\n",
       "      <td>Rural</td>\n",
       "      <td>174.12</td>\n",
       "      <td>24.0</td>\n",
       "      <td>never smoked</td>\n",
       "      <td>1</td>\n",
       "    </tr>\n",
       "  </tbody>\n",
       "</table>\n",
       "</div>"
      ],
      "text/plain": [
       "      id  gender   age  hypertension  heart_disease ever_married  \\\n",
       "0   9046    Male  67.0             0              1          Yes   \n",
       "1  51676  Female  61.0             0              0          Yes   \n",
       "2  31112    Male  80.0             0              1          Yes   \n",
       "3  60182  Female  49.0             0              0          Yes   \n",
       "4   1665  Female  79.0             1              0          Yes   \n",
       "\n",
       "       work_type Residence_type  avg_glucose_level   bmi   smoking_status  \\\n",
       "0        Private          Urban             228.69  36.6  formerly smoked   \n",
       "1  Self-employed          Rural             202.21   NaN     never smoked   \n",
       "2        Private          Rural             105.92  32.5     never smoked   \n",
       "3        Private          Urban             171.23  34.4           smokes   \n",
       "4  Self-employed          Rural             174.12  24.0     never smoked   \n",
       "\n",
       "   stroke  \n",
       "0       1  \n",
       "1       1  \n",
       "2       1  \n",
       "3       1  \n",
       "4       1  "
      ]
     },
     "execution_count": 3,
     "metadata": {},
     "output_type": "execute_result"
    }
   ],
   "source": [
    "health.head()"
   ]
  },
  {
   "cell_type": "markdown",
   "id": "bca8ed8e",
   "metadata": {},
   "source": [
    "### Missing value count in bmi column"
   ]
  },
  {
   "cell_type": "code",
   "execution_count": 4,
   "id": "2c7663de",
   "metadata": {},
   "outputs": [
    {
     "data": {
      "text/plain": [
       "201"
      ]
     },
     "execution_count": 4,
     "metadata": {},
     "output_type": "execute_result"
    }
   ],
   "source": [
    "health['bmi'].isna().sum()"
   ]
  },
  {
   "cell_type": "markdown",
   "id": "0a733554",
   "metadata": {},
   "source": [
    "### Missing value count in health dataframe"
   ]
  },
  {
   "cell_type": "code",
   "execution_count": 5,
   "id": "2d15840a",
   "metadata": {},
   "outputs": [
    {
     "data": {
      "text/plain": [
       "201"
      ]
     },
     "execution_count": 5,
     "metadata": {},
     "output_type": "execute_result"
    }
   ],
   "source": [
    "health.isna().sum().sum()"
   ]
  },
  {
   "cell_type": "code",
   "execution_count": 6,
   "id": "42619b88",
   "metadata": {},
   "outputs": [
    {
     "data": {
      "text/plain": [
       "4909"
      ]
     },
     "execution_count": 6,
     "metadata": {},
     "output_type": "execute_result"
    }
   ],
   "source": [
    "health.bmi.count()"
   ]
  },
  {
   "cell_type": "markdown",
   "id": "b66075e0",
   "metadata": {},
   "source": [
    "### percent of missing value count"
   ]
  },
  {
   "cell_type": "code",
   "execution_count": 7,
   "id": "e263c21d",
   "metadata": {},
   "outputs": [],
   "source": [
    "percent_missing_value = health.isnull().sum()*100/len(health)"
   ]
  },
  {
   "cell_type": "code",
   "execution_count": 8,
   "id": "624ee916",
   "metadata": {},
   "outputs": [
    {
     "data": {
      "text/plain": [
       "id                   0.000000\n",
       "gender               0.000000\n",
       "age                  0.000000\n",
       "hypertension         0.000000\n",
       "heart_disease        0.000000\n",
       "ever_married         0.000000\n",
       "work_type            0.000000\n",
       "Residence_type       0.000000\n",
       "avg_glucose_level    0.000000\n",
       "bmi                  3.933464\n",
       "smoking_status       0.000000\n",
       "stroke               0.000000\n",
       "dtype: float64"
      ]
     },
     "execution_count": 8,
     "metadata": {},
     "output_type": "execute_result"
    }
   ],
   "source": [
    "percent_missing_value"
   ]
  },
  {
   "cell_type": "markdown",
   "id": "d3c96d60",
   "metadata": {},
   "source": [
    "### Percent missing value is less than 30% of entire dataframe and can therefore be dropped.  "
   ]
  },
  {
   "cell_type": "markdown",
   "id": "01681062",
   "metadata": {},
   "source": [
    "## Data Wrangling"
   ]
  },
  {
   "cell_type": "markdown",
   "id": "a97efdd3",
   "metadata": {},
   "source": [
    "## there's no specific information that can be assessed to evaluate the values of bmi NA, therefore all bmi NA data will be dropped from our dataset"
   ]
  },
  {
   "cell_type": "code",
   "execution_count": 9,
   "id": "7b90e7f0",
   "metadata": {},
   "outputs": [],
   "source": [
    "health.dropna(inplace = True)"
   ]
  },
  {
   "cell_type": "code",
   "execution_count": 10,
   "id": "6416fb8c",
   "metadata": {},
   "outputs": [
    {
     "data": {
      "text/html": [
       "<div>\n",
       "<style scoped>\n",
       "    .dataframe tbody tr th:only-of-type {\n",
       "        vertical-align: middle;\n",
       "    }\n",
       "\n",
       "    .dataframe tbody tr th {\n",
       "        vertical-align: top;\n",
       "    }\n",
       "\n",
       "    .dataframe thead th {\n",
       "        text-align: right;\n",
       "    }\n",
       "</style>\n",
       "<table border=\"1\" class=\"dataframe\">\n",
       "  <thead>\n",
       "    <tr style=\"text-align: right;\">\n",
       "      <th></th>\n",
       "      <th>id</th>\n",
       "      <th>gender</th>\n",
       "      <th>age</th>\n",
       "      <th>hypertension</th>\n",
       "      <th>heart_disease</th>\n",
       "      <th>ever_married</th>\n",
       "      <th>work_type</th>\n",
       "      <th>Residence_type</th>\n",
       "      <th>avg_glucose_level</th>\n",
       "      <th>bmi</th>\n",
       "      <th>smoking_status</th>\n",
       "      <th>stroke</th>\n",
       "    </tr>\n",
       "  </thead>\n",
       "  <tbody>\n",
       "    <tr>\n",
       "      <th>0</th>\n",
       "      <td>9046</td>\n",
       "      <td>Male</td>\n",
       "      <td>67.0</td>\n",
       "      <td>0</td>\n",
       "      <td>1</td>\n",
       "      <td>Yes</td>\n",
       "      <td>Private</td>\n",
       "      <td>Urban</td>\n",
       "      <td>228.69</td>\n",
       "      <td>36.6</td>\n",
       "      <td>formerly smoked</td>\n",
       "      <td>1</td>\n",
       "    </tr>\n",
       "    <tr>\n",
       "      <th>2</th>\n",
       "      <td>31112</td>\n",
       "      <td>Male</td>\n",
       "      <td>80.0</td>\n",
       "      <td>0</td>\n",
       "      <td>1</td>\n",
       "      <td>Yes</td>\n",
       "      <td>Private</td>\n",
       "      <td>Rural</td>\n",
       "      <td>105.92</td>\n",
       "      <td>32.5</td>\n",
       "      <td>never smoked</td>\n",
       "      <td>1</td>\n",
       "    </tr>\n",
       "    <tr>\n",
       "      <th>3</th>\n",
       "      <td>60182</td>\n",
       "      <td>Female</td>\n",
       "      <td>49.0</td>\n",
       "      <td>0</td>\n",
       "      <td>0</td>\n",
       "      <td>Yes</td>\n",
       "      <td>Private</td>\n",
       "      <td>Urban</td>\n",
       "      <td>171.23</td>\n",
       "      <td>34.4</td>\n",
       "      <td>smokes</td>\n",
       "      <td>1</td>\n",
       "    </tr>\n",
       "    <tr>\n",
       "      <th>4</th>\n",
       "      <td>1665</td>\n",
       "      <td>Female</td>\n",
       "      <td>79.0</td>\n",
       "      <td>1</td>\n",
       "      <td>0</td>\n",
       "      <td>Yes</td>\n",
       "      <td>Self-employed</td>\n",
       "      <td>Rural</td>\n",
       "      <td>174.12</td>\n",
       "      <td>24.0</td>\n",
       "      <td>never smoked</td>\n",
       "      <td>1</td>\n",
       "    </tr>\n",
       "    <tr>\n",
       "      <th>5</th>\n",
       "      <td>56669</td>\n",
       "      <td>Male</td>\n",
       "      <td>81.0</td>\n",
       "      <td>0</td>\n",
       "      <td>0</td>\n",
       "      <td>Yes</td>\n",
       "      <td>Private</td>\n",
       "      <td>Urban</td>\n",
       "      <td>186.21</td>\n",
       "      <td>29.0</td>\n",
       "      <td>formerly smoked</td>\n",
       "      <td>1</td>\n",
       "    </tr>\n",
       "  </tbody>\n",
       "</table>\n",
       "</div>"
      ],
      "text/plain": [
       "      id  gender   age  hypertension  heart_disease ever_married  \\\n",
       "0   9046    Male  67.0             0              1          Yes   \n",
       "2  31112    Male  80.0             0              1          Yes   \n",
       "3  60182  Female  49.0             0              0          Yes   \n",
       "4   1665  Female  79.0             1              0          Yes   \n",
       "5  56669    Male  81.0             0              0          Yes   \n",
       "\n",
       "       work_type Residence_type  avg_glucose_level   bmi   smoking_status  \\\n",
       "0        Private          Urban             228.69  36.6  formerly smoked   \n",
       "2        Private          Rural             105.92  32.5     never smoked   \n",
       "3        Private          Urban             171.23  34.4           smokes   \n",
       "4  Self-employed          Rural             174.12  24.0     never smoked   \n",
       "5        Private          Urban             186.21  29.0  formerly smoked   \n",
       "\n",
       "   stroke  \n",
       "0       1  \n",
       "2       1  \n",
       "3       1  \n",
       "4       1  \n",
       "5       1  "
      ]
     },
     "execution_count": 10,
     "metadata": {},
     "output_type": "execute_result"
    }
   ],
   "source": [
    "health.head()"
   ]
  },
  {
   "cell_type": "markdown",
   "id": "c5d8620f",
   "metadata": {},
   "source": [
    "### droping id variable from health dataset"
   ]
  },
  {
   "cell_type": "code",
   "execution_count": 11,
   "id": "0fd0cbfb",
   "metadata": {},
   "outputs": [],
   "source": [
    "health.drop(['id'], inplace=True, axis=1)"
   ]
  },
  {
   "cell_type": "code",
   "execution_count": 12,
   "id": "9b598079",
   "metadata": {},
   "outputs": [
    {
     "data": {
      "text/html": [
       "<div>\n",
       "<style scoped>\n",
       "    .dataframe tbody tr th:only-of-type {\n",
       "        vertical-align: middle;\n",
       "    }\n",
       "\n",
       "    .dataframe tbody tr th {\n",
       "        vertical-align: top;\n",
       "    }\n",
       "\n",
       "    .dataframe thead th {\n",
       "        text-align: right;\n",
       "    }\n",
       "</style>\n",
       "<table border=\"1\" class=\"dataframe\">\n",
       "  <thead>\n",
       "    <tr style=\"text-align: right;\">\n",
       "      <th></th>\n",
       "      <th>gender</th>\n",
       "      <th>age</th>\n",
       "      <th>hypertension</th>\n",
       "      <th>heart_disease</th>\n",
       "      <th>ever_married</th>\n",
       "      <th>work_type</th>\n",
       "      <th>Residence_type</th>\n",
       "      <th>avg_glucose_level</th>\n",
       "      <th>bmi</th>\n",
       "      <th>smoking_status</th>\n",
       "      <th>stroke</th>\n",
       "    </tr>\n",
       "  </thead>\n",
       "  <tbody>\n",
       "    <tr>\n",
       "      <th>0</th>\n",
       "      <td>Male</td>\n",
       "      <td>67.0</td>\n",
       "      <td>0</td>\n",
       "      <td>1</td>\n",
       "      <td>Yes</td>\n",
       "      <td>Private</td>\n",
       "      <td>Urban</td>\n",
       "      <td>228.69</td>\n",
       "      <td>36.6</td>\n",
       "      <td>formerly smoked</td>\n",
       "      <td>1</td>\n",
       "    </tr>\n",
       "    <tr>\n",
       "      <th>2</th>\n",
       "      <td>Male</td>\n",
       "      <td>80.0</td>\n",
       "      <td>0</td>\n",
       "      <td>1</td>\n",
       "      <td>Yes</td>\n",
       "      <td>Private</td>\n",
       "      <td>Rural</td>\n",
       "      <td>105.92</td>\n",
       "      <td>32.5</td>\n",
       "      <td>never smoked</td>\n",
       "      <td>1</td>\n",
       "    </tr>\n",
       "    <tr>\n",
       "      <th>3</th>\n",
       "      <td>Female</td>\n",
       "      <td>49.0</td>\n",
       "      <td>0</td>\n",
       "      <td>0</td>\n",
       "      <td>Yes</td>\n",
       "      <td>Private</td>\n",
       "      <td>Urban</td>\n",
       "      <td>171.23</td>\n",
       "      <td>34.4</td>\n",
       "      <td>smokes</td>\n",
       "      <td>1</td>\n",
       "    </tr>\n",
       "    <tr>\n",
       "      <th>4</th>\n",
       "      <td>Female</td>\n",
       "      <td>79.0</td>\n",
       "      <td>1</td>\n",
       "      <td>0</td>\n",
       "      <td>Yes</td>\n",
       "      <td>Self-employed</td>\n",
       "      <td>Rural</td>\n",
       "      <td>174.12</td>\n",
       "      <td>24.0</td>\n",
       "      <td>never smoked</td>\n",
       "      <td>1</td>\n",
       "    </tr>\n",
       "    <tr>\n",
       "      <th>5</th>\n",
       "      <td>Male</td>\n",
       "      <td>81.0</td>\n",
       "      <td>0</td>\n",
       "      <td>0</td>\n",
       "      <td>Yes</td>\n",
       "      <td>Private</td>\n",
       "      <td>Urban</td>\n",
       "      <td>186.21</td>\n",
       "      <td>29.0</td>\n",
       "      <td>formerly smoked</td>\n",
       "      <td>1</td>\n",
       "    </tr>\n",
       "  </tbody>\n",
       "</table>\n",
       "</div>"
      ],
      "text/plain": [
       "   gender   age  hypertension  heart_disease ever_married      work_type  \\\n",
       "0    Male  67.0             0              1          Yes        Private   \n",
       "2    Male  80.0             0              1          Yes        Private   \n",
       "3  Female  49.0             0              0          Yes        Private   \n",
       "4  Female  79.0             1              0          Yes  Self-employed   \n",
       "5    Male  81.0             0              0          Yes        Private   \n",
       "\n",
       "  Residence_type  avg_glucose_level   bmi   smoking_status  stroke  \n",
       "0          Urban             228.69  36.6  formerly smoked       1  \n",
       "2          Rural             105.92  32.5     never smoked       1  \n",
       "3          Urban             171.23  34.4           smokes       1  \n",
       "4          Rural             174.12  24.0     never smoked       1  \n",
       "5          Urban             186.21  29.0  formerly smoked       1  "
      ]
     },
     "execution_count": 12,
     "metadata": {},
     "output_type": "execute_result"
    }
   ],
   "source": [
    "health.head()"
   ]
  },
  {
   "cell_type": "markdown",
   "id": "540a5a0f",
   "metadata": {},
   "source": [
    "### Visualization countplot for gender, ever_married, work_type, Residence_type and smoking_status"
   ]
  },
  {
   "cell_type": "code",
   "execution_count": 19,
   "id": "ec8d6102",
   "metadata": {},
   "outputs": [
    {
     "data": {
      "image/png": "[encoded data removed]",
      "text/plain": [
       "<Figure size 2160x2160 with 5 Axes>"
      ]
     },
     "metadata": {
      "needs_background": "light"
     },
     "output_type": "display_data"
    }
   ],
   "source": [
    "plt.figure(figsize=(30,30))\n",
    "\n",
    "col= ['gender','ever_married','work_type','Residence_type','smoking_status']\n",
    "i = 1\n",
    "for a in col:\n",
    "    \n",
    "    plt.subplot(3,2,i)\n",
    "    g = sns.countplot(x=a,data=health,palette='Pastel2')\n",
    "    for p in g.patches:\n",
    "        g.annotate('{:.0f}'.format(p.get_height()), (p.get_x()+0.2, p.get_height()+20),ha='center', va='bottom',\n",
    "                   color= 'black')\n",
    "        plt.xlabel(a,fontsize=30)\n",
    "    i = i+1\n",
    "    \n",
    "plt.tight_layout()"
   ]
  },
  {
   "cell_type": "markdown",
   "id": "1428ff6c",
   "metadata": {},
   "source": [
    "### Visualization Countplot for Hypertension, Heart_disease and stroke"
   ]
  },
  {
   "cell_type": "code",
   "execution_count": 20,
   "id": "d4212978",
   "metadata": {},
   "outputs": [
    {
     "data": {
      "image/png": "[encoded data removed]",
      "text/plain": [
       "<Figure size 1440x1440 with 3 Axes>"
      ]
     },
     "metadata": {
      "needs_background": "light"
     },
     "output_type": "display_data"
    }
   ],
   "source": [
    "plt.figure(figsize=(20,20))\n",
    "\n",
    "col= ['hypertension','heart_disease','stroke']\n",
    "i = 1\n",
    "for a in col:\n",
    "    \n",
    "    plt.subplot(3,2,i)\n",
    "    g = sns.countplot(x=a,data=health,palette='Pastel2')\n",
    "    for p in g.patches:\n",
    "        g.annotate('{:.0f}'.format(p.get_height()), (p.get_x()+0.2, p.get_height()+20),ha='center', va='bottom',\n",
    "                   color= 'black')\n",
    "        plt.xlabel(a,fontsize=20)\n",
    "    i = i+1\n",
    "    \n",
    "plt.tight_layout()"
   ]
  },
  {
   "cell_type": "markdown",
   "id": "75c07d84",
   "metadata": {},
   "source": [
    "### Visualization of countplot of stroke level by gender, ever_married, work_type, Residence_type, smoking status"
   ]
  },
  {
   "cell_type": "code",
   "execution_count": 22,
   "id": "f305c0f2",
   "metadata": {},
   "outputs": [
    {
     "data": {
      "text/plain": [
       "Text(0.5, 1.0, 'count of stroke by gender')"
      ]
     },
     "execution_count": 22,
     "metadata": {},
     "output_type": "execute_result"
    },
    {
     "data": {
      "image/png": "[encoded data removed]",
      "text/plain": [
       "<Figure size 432x288 with 1 Axes>"
      ]
     },
     "metadata": {},
     "output_type": "display_data"
    }
   ],
   "source": [
    "sns.set_style(\"darkgrid\")\n",
    "sns.countplot(x=\"gender\", data=health, hue='stroke')\n",
    "plt.title('count of stroke by gender')\n",
    "\n",
    "## this plot shows female are more likely to have a stroke when compared to male"
   ]
  },
  {
   "cell_type": "code",
   "execution_count": 23,
   "id": "f5df0ea6",
   "metadata": {},
   "outputs": [
    {
     "data": {
      "text/plain": [
       "Text(0.5, 1.0, 'count of stroke by married and non married couple')"
      ]
     },
     "execution_count": 23,
     "metadata": {},
     "output_type": "execute_result"
    },
    {
     "data": {
      "image/png": "[encoded data removed]",
      "text/plain": [
       "<Figure size 432x288 with 1 Axes>"
      ]
     },
     "metadata": {},
     "output_type": "display_data"
    }
   ],
   "source": [
    "sns.set_style(\"darkgrid\")\n",
    "sns.countplot(x=\"ever_married\", data=health, hue='stroke')\n",
    "plt.title('count of stroke by married and non married couple')\n",
    "\n",
    "## this plot shows that married couple are more likely to have a stroke when compared to unmarried couple"
   ]
  },
  {
   "cell_type": "code",
   "execution_count": 200,
   "id": "7e6da1be",
   "metadata": {},
   "outputs": [
    {
     "data": {
      "text/plain": [
       "Text(0.5, 1.0, 'count of stroke by work_type')"
      ]
     },
     "execution_count": 200,
     "metadata": {},
     "output_type": "execute_result"
    },
    {
     "data": {
      "image/png": "[encoded data removed]",
      "text/plain": [
       "<Figure size 432x288 with 1 Axes>"
      ]
     },
     "metadata": {},
     "output_type": "display_data"
    }
   ],
   "source": [
    "sns.set_style(\"darkgrid\")\n",
    "sns.countplot(x=\"work_type\", data=health, hue='stroke')\n",
    "plt.title('count of stroke by work_type')\n",
    "\n",
    "## this plot shows that people in the private sector are more likely to have a stroke when compared to people who never worked or those who are self employed and in the government sector"
   ]
  },
  {
   "cell_type": "code",
   "execution_count": 25,
   "id": "88e24d3c",
   "metadata": {},
   "outputs": [
    {
     "data": {
      "text/plain": [
       "Text(0.5, 1.0, 'count of stroke by Residence_type')"
      ]
     },
     "execution_count": 25,
     "metadata": {},
     "output_type": "execute_result"
    },
    {
     "data": {
      "image/png": "[encoded data removed]",
      "text/plain": [
       "<Figure size 432x288 with 1 Axes>"
      ]
     },
     "metadata": {},
     "output_type": "display_data"
    }
   ],
   "source": [
    "sns.set_style(\"darkgrid\")\n",
    "sns.countplot(x=\"Residence_type\", data=health, hue='stroke')\n",
    "plt.title(\"count of stroke by Residence_type\")\n",
    "\n",
    "## this plot shows that people in the urban and rural area have the same odd of having a stroke"
   ]
  },
  {
   "cell_type": "code",
   "execution_count": 26,
   "id": "6801f7f7",
   "metadata": {},
   "outputs": [
    {
     "data": {
      "text/plain": [
       "Text(0.5, 1.0, 'count of stroke by smoking_status')"
      ]
     },
     "execution_count": 26,
     "metadata": {},
     "output_type": "execute_result"
    },
    {
     "data": {
      "image/png": "[encoded data removed]",
      "text/plain": [
       "<Figure size 432x288 with 1 Axes>"
      ]
     },
     "metadata": {},
     "output_type": "display_data"
    }
   ],
   "source": [
    "sns.set_style(\"darkgrid\")\n",
    "sns.countplot(x=\"smoking_status\", data=health, hue='stroke')\n",
    "plt.title(\"count of stroke by smoking_status\")\n",
    "\n",
    "## this plot shows that people who never smoked and formerly smoked are more likely to have a stroke"
   ]
  },
  {
   "cell_type": "markdown",
   "id": "a45686c9",
   "metadata": {},
   "source": [
    "### Histogram of stroke level by age, bmi and average glucose level"
   ]
  },
  {
   "cell_type": "code",
   "execution_count": 27,
   "id": "90646c9b",
   "metadata": {},
   "outputs": [
    {
     "data": {
      "image/png": "[encoded data removed]",
      "text/plain": [
       "<Figure size 864x432 with 3 Axes>"
      ]
     },
     "metadata": {},
     "output_type": "display_data"
    }
   ],
   "source": [
    "column_list = ['age', 'avg_glucose_level', 'bmi']\n",
    "\n",
    "fig, ax = plt.subplots(1, 3, figsize=(12,6))\n",
    "\n",
    "for i, col in enumerate(column_list):\n",
    "  sns.histplot(data=health, x=col, hue='stroke', multiple='stack', ax=ax[i])\n",
    "\n",
    "plt.tight_layout()\n",
    "plt.show()"
   ]
  },
  {
   "cell_type": "markdown",
   "id": "6c3fc718",
   "metadata": {},
   "source": [
    "## Density of stroke level by age, average glucose level and bmi"
   ]
  },
  {
   "cell_type": "code",
   "execution_count": 28,
   "id": "7130eef8",
   "metadata": {},
   "outputs": [
    {
     "data": {
      "image/png": "[encoded data removed]",
      "text/plain": [
       "<Figure size 1296x432 with 3 Axes>"
      ]
     },
     "metadata": {},
     "output_type": "display_data"
    }
   ],
   "source": [
    "fig, ax = plt.subplots(1, 3, figsize=(18,6))\n",
    "\n",
    "for i, col in enumerate(column_list):\n",
    "  sns.kdeplot(data=health, x=col, linewidth=3, hue='stroke', fill=True, multiple='stack', ax=ax[i])\n",
    "\n",
    "plt.tight_layout()\n",
    "plt.show()"
   ]
  },
  {
   "cell_type": "markdown",
   "id": "587f86d6",
   "metadata": {},
   "source": [
    "### Visual of Histogram and Density stroke level show the following: a person aged 40 and over is more likely to suffer from stroke, average glucose level of 60-120 and 200-250 is more likely to experience a stroke, and a patient with a bmi level of 20-40 is more likely to suffer a stroke. "
   ]
  },
  {
   "cell_type": "markdown",
   "id": "75e640f9",
   "metadata": {},
   "source": [
    "### the countplot of stroke level by gender, ever_married, work_type and smoking_status shows that the data are imbalanced, which leads to the aberrant results the plots are displaying. \n",
    "### We will attempt to balance the features of gender, ever_married, work_type, smoking_status and Residence_type using the undersampling and oversampling process before feeding them in a random forest. "
   ]
  },
  {
   "cell_type": "markdown",
   "id": "ddf6effb",
   "metadata": {},
   "source": [
    "### Brief Data analysis"
   ]
  },
  {
   "cell_type": "code",
   "execution_count": 24,
   "id": "a173d5b0",
   "metadata": {},
   "outputs": [
    {
     "name": "stdout",
     "output_type": "stream",
     "text": [
      "<class 'pandas.core.frame.DataFrame'>\n",
      "Int64Index: 4909 entries, 0 to 5109\n",
      "Data columns (total 11 columns):\n",
      " #   Column             Non-Null Count  Dtype  \n",
      "---  ------             --------------  -----  \n",
      " 0   gender             4909 non-null   object \n",
      " 1   age                4909 non-null   float64\n",
      " 2   hypertension       4909 non-null   int64  \n",
      " 3   heart_disease      4909 non-null   int64  \n",
      " 4   ever_married       4909 non-null   object \n",
      " 5   work_type          4909 non-null   object \n",
      " 6   Residence_type     4909 non-null   object \n",
      " 7   avg_glucose_level  4909 non-null   float64\n",
      " 8   bmi                4909 non-null   float64\n",
      " 9   smoking_status     4909 non-null   object \n",
      " 10  stroke             4909 non-null   int64  \n",
      "dtypes: float64(3), int64(3), object(5)\n",
      "memory usage: 589.3+ KB\n"
     ]
    }
   ],
   "source": [
    "health.info()"
   ]
  },
  {
   "cell_type": "code",
   "execution_count": 25,
   "id": "9933d2db",
   "metadata": {},
   "outputs": [
    {
     "data": {
      "text/html": [
       "<div>\n",
       "<style scoped>\n",
       "    .dataframe tbody tr th:only-of-type {\n",
       "        vertical-align: middle;\n",
       "    }\n",
       "\n",
       "    .dataframe tbody tr th {\n",
       "        vertical-align: top;\n",
       "    }\n",
       "\n",
       "    .dataframe thead th {\n",
       "        text-align: right;\n",
       "    }\n",
       "</style>\n",
       "<table border=\"1\" class=\"dataframe\">\n",
       "  <thead>\n",
       "    <tr style=\"text-align: right;\">\n",
       "      <th></th>\n",
       "      <th>age</th>\n",
       "      <th>hypertension</th>\n",
       "      <th>heart_disease</th>\n",
       "      <th>avg_glucose_level</th>\n",
       "      <th>bmi</th>\n",
       "      <th>stroke</th>\n",
       "    </tr>\n",
       "  </thead>\n",
       "  <tbody>\n",
       "    <tr>\n",
       "      <th>count</th>\n",
       "      <td>4909.000000</td>\n",
       "      <td>4909.000000</td>\n",
       "      <td>4909.000000</td>\n",
       "      <td>4909.000000</td>\n",
       "      <td>4909.000000</td>\n",
       "      <td>4909.000000</td>\n",
       "    </tr>\n",
       "    <tr>\n",
       "      <th>mean</th>\n",
       "      <td>42.865374</td>\n",
       "      <td>0.091872</td>\n",
       "      <td>0.049501</td>\n",
       "      <td>105.305150</td>\n",
       "      <td>28.893237</td>\n",
       "      <td>0.042575</td>\n",
       "    </tr>\n",
       "    <tr>\n",
       "      <th>std</th>\n",
       "      <td>22.555115</td>\n",
       "      <td>0.288875</td>\n",
       "      <td>0.216934</td>\n",
       "      <td>44.424341</td>\n",
       "      <td>7.854067</td>\n",
       "      <td>0.201917</td>\n",
       "    </tr>\n",
       "    <tr>\n",
       "      <th>min</th>\n",
       "      <td>0.080000</td>\n",
       "      <td>0.000000</td>\n",
       "      <td>0.000000</td>\n",
       "      <td>55.120000</td>\n",
       "      <td>10.300000</td>\n",
       "      <td>0.000000</td>\n",
       "    </tr>\n",
       "    <tr>\n",
       "      <th>25%</th>\n",
       "      <td>25.000000</td>\n",
       "      <td>0.000000</td>\n",
       "      <td>0.000000</td>\n",
       "      <td>77.070000</td>\n",
       "      <td>23.500000</td>\n",
       "      <td>0.000000</td>\n",
       "    </tr>\n",
       "    <tr>\n",
       "      <th>50%</th>\n",
       "      <td>44.000000</td>\n",
       "      <td>0.000000</td>\n",
       "      <td>0.000000</td>\n",
       "      <td>91.680000</td>\n",
       "      <td>28.100000</td>\n",
       "      <td>0.000000</td>\n",
       "    </tr>\n",
       "    <tr>\n",
       "      <th>75%</th>\n",
       "      <td>60.000000</td>\n",
       "      <td>0.000000</td>\n",
       "      <td>0.000000</td>\n",
       "      <td>113.570000</td>\n",
       "      <td>33.100000</td>\n",
       "      <td>0.000000</td>\n",
       "    </tr>\n",
       "    <tr>\n",
       "      <th>max</th>\n",
       "      <td>82.000000</td>\n",
       "      <td>1.000000</td>\n",
       "      <td>1.000000</td>\n",
       "      <td>271.740000</td>\n",
       "      <td>97.600000</td>\n",
       "      <td>1.000000</td>\n",
       "    </tr>\n",
       "  </tbody>\n",
       "</table>\n",
       "</div>"
      ],
      "text/plain": [
       "               age  hypertension  heart_disease  avg_glucose_level  \\\n",
       "count  4909.000000   4909.000000    4909.000000        4909.000000   \n",
       "mean     42.865374      0.091872       0.049501         105.305150   \n",
       "std      22.555115      0.288875       0.216934          44.424341   \n",
       "min       0.080000      0.000000       0.000000          55.120000   \n",
       "25%      25.000000      0.000000       0.000000          77.070000   \n",
       "50%      44.000000      0.000000       0.000000          91.680000   \n",
       "75%      60.000000      0.000000       0.000000         113.570000   \n",
       "max      82.000000      1.000000       1.000000         271.740000   \n",
       "\n",
       "               bmi       stroke  \n",
       "count  4909.000000  4909.000000  \n",
       "mean     28.893237     0.042575  \n",
       "std       7.854067     0.201917  \n",
       "min      10.300000     0.000000  \n",
       "25%      23.500000     0.000000  \n",
       "50%      28.100000     0.000000  \n",
       "75%      33.100000     0.000000  \n",
       "max      97.600000     1.000000  "
      ]
     },
     "execution_count": 25,
     "metadata": {},
     "output_type": "execute_result"
    }
   ],
   "source": [
    "health.describe()"
   ]
  },
  {
   "cell_type": "code",
   "execution_count": 29,
   "id": "3d29462b",
   "metadata": {},
   "outputs": [
    {
     "data": {
      "text/plain": [
       "smoking_status\n",
       "never smoked       1852\n",
       "Unknown            1483\n",
       "formerly smoked     837\n",
       "smokes              737\n",
       "dtype: int64"
      ]
     },
     "execution_count": 29,
     "metadata": {},
     "output_type": "execute_result"
    }
   ],
   "source": [
    "health.value_counts(\"smoking_status\")"
   ]
  },
  {
   "cell_type": "code",
   "execution_count": 30,
   "id": "230a957f",
   "metadata": {},
   "outputs": [
    {
     "data": {
      "text/plain": [
       "Residence_type\n",
       "Urban    2490\n",
       "Rural    2419\n",
       "dtype: int64"
      ]
     },
     "execution_count": 30,
     "metadata": {},
     "output_type": "execute_result"
    }
   ],
   "source": [
    "health.value_counts(\"Residence_type\")"
   ]
  },
  {
   "cell_type": "code",
   "execution_count": 31,
   "id": "04617307",
   "metadata": {},
   "outputs": [
    {
     "data": {
      "text/plain": [
       "work_type\n",
       "Private          2811\n",
       "Self-employed     775\n",
       "children          671\n",
       "Govt_job          630\n",
       "Never_worked       22\n",
       "dtype: int64"
      ]
     },
     "execution_count": 31,
     "metadata": {},
     "output_type": "execute_result"
    }
   ],
   "source": [
    "health.value_counts(\"work_type\")"
   ]
  },
  {
   "cell_type": "code",
   "execution_count": 32,
   "id": "b5c2acab",
   "metadata": {},
   "outputs": [
    {
     "data": {
      "text/plain": [
       "ever_married\n",
       "Yes    3204\n",
       "No     1705\n",
       "dtype: int64"
      ]
     },
     "execution_count": 32,
     "metadata": {},
     "output_type": "execute_result"
    }
   ],
   "source": [
    "health.value_counts(\"ever_married\")"
   ]
  },
  {
   "cell_type": "code",
   "execution_count": 34,
   "id": "b3a27a6f",
   "metadata": {},
   "outputs": [
    {
     "data": {
      "text/plain": [
       "gender\n",
       "Female    2897\n",
       "Male      2011\n",
       "Other        1\n",
       "dtype: int64"
      ]
     },
     "execution_count": 34,
     "metadata": {},
     "output_type": "execute_result"
    }
   ],
   "source": [
    "health.value_counts('gender')"
   ]
  },
  {
   "cell_type": "markdown",
   "id": "63940d8b",
   "metadata": {},
   "source": [
    "### Recode \"ever_married\", \"work_type\", \"Residence_type\" and \"smoking_status\" from text to numbers using cleanup into a new variable named healthR"
   ]
  },
  {
   "cell_type": "code",
   "execution_count": 35,
   "id": "ecd22358",
   "metadata": {},
   "outputs": [],
   "source": [
    "healthR = pd.read_csv(\"C:/Users/jmubalutila/Documents/CSC169C/Data sets/healthcare-dataset-stroke-data.csv\")"
   ]
  },
  {
   "cell_type": "code",
   "execution_count": 36,
   "id": "8eaccb20",
   "metadata": {},
   "outputs": [
    {
     "data": {
      "text/html": [
       "<div>\n",
       "<style scoped>\n",
       "    .dataframe tbody tr th:only-of-type {\n",
       "        vertical-align: middle;\n",
       "    }\n",
       "\n",
       "    .dataframe tbody tr th {\n",
       "        vertical-align: top;\n",
       "    }\n",
       "\n",
       "    .dataframe thead th {\n",
       "        text-align: right;\n",
       "    }\n",
       "</style>\n",
       "<table border=\"1\" class=\"dataframe\">\n",
       "  <thead>\n",
       "    <tr style=\"text-align: right;\">\n",
       "      <th></th>\n",
       "      <th>id</th>\n",
       "      <th>gender</th>\n",
       "      <th>age</th>\n",
       "      <th>hypertension</th>\n",
       "      <th>heart_disease</th>\n",
       "      <th>ever_married</th>\n",
       "      <th>work_type</th>\n",
       "      <th>Residence_type</th>\n",
       "      <th>avg_glucose_level</th>\n",
       "      <th>bmi</th>\n",
       "      <th>smoking_status</th>\n",
       "      <th>stroke</th>\n",
       "    </tr>\n",
       "  </thead>\n",
       "  <tbody>\n",
       "    <tr>\n",
       "      <th>0</th>\n",
       "      <td>9046</td>\n",
       "      <td>Male</td>\n",
       "      <td>67.0</td>\n",
       "      <td>0</td>\n",
       "      <td>1</td>\n",
       "      <td>Yes</td>\n",
       "      <td>Private</td>\n",
       "      <td>Urban</td>\n",
       "      <td>228.69</td>\n",
       "      <td>36.6</td>\n",
       "      <td>formerly smoked</td>\n",
       "      <td>1</td>\n",
       "    </tr>\n",
       "    <tr>\n",
       "      <th>1</th>\n",
       "      <td>51676</td>\n",
       "      <td>Female</td>\n",
       "      <td>61.0</td>\n",
       "      <td>0</td>\n",
       "      <td>0</td>\n",
       "      <td>Yes</td>\n",
       "      <td>Self-employed</td>\n",
       "      <td>Rural</td>\n",
       "      <td>202.21</td>\n",
       "      <td>NaN</td>\n",
       "      <td>never smoked</td>\n",
       "      <td>1</td>\n",
       "    </tr>\n",
       "    <tr>\n",
       "      <th>2</th>\n",
       "      <td>31112</td>\n",
       "      <td>Male</td>\n",
       "      <td>80.0</td>\n",
       "      <td>0</td>\n",
       "      <td>1</td>\n",
       "      <td>Yes</td>\n",
       "      <td>Private</td>\n",
       "      <td>Rural</td>\n",
       "      <td>105.92</td>\n",
       "      <td>32.5</td>\n",
       "      <td>never smoked</td>\n",
       "      <td>1</td>\n",
       "    </tr>\n",
       "    <tr>\n",
       "      <th>3</th>\n",
       "      <td>60182</td>\n",
       "      <td>Female</td>\n",
       "      <td>49.0</td>\n",
       "      <td>0</td>\n",
       "      <td>0</td>\n",
       "      <td>Yes</td>\n",
       "      <td>Private</td>\n",
       "      <td>Urban</td>\n",
       "      <td>171.23</td>\n",
       "      <td>34.4</td>\n",
       "      <td>smokes</td>\n",
       "      <td>1</td>\n",
       "    </tr>\n",
       "    <tr>\n",
       "      <th>4</th>\n",
       "      <td>1665</td>\n",
       "      <td>Female</td>\n",
       "      <td>79.0</td>\n",
       "      <td>1</td>\n",
       "      <td>0</td>\n",
       "      <td>Yes</td>\n",
       "      <td>Self-employed</td>\n",
       "      <td>Rural</td>\n",
       "      <td>174.12</td>\n",
       "      <td>24.0</td>\n",
       "      <td>never smoked</td>\n",
       "      <td>1</td>\n",
       "    </tr>\n",
       "  </tbody>\n",
       "</table>\n",
       "</div>"
      ],
      "text/plain": [
       "      id  gender   age  hypertension  heart_disease ever_married  \\\n",
       "0   9046    Male  67.0             0              1          Yes   \n",
       "1  51676  Female  61.0             0              0          Yes   \n",
       "2  31112    Male  80.0             0              1          Yes   \n",
       "3  60182  Female  49.0             0              0          Yes   \n",
       "4   1665  Female  79.0             1              0          Yes   \n",
       "\n",
       "       work_type Residence_type  avg_glucose_level   bmi   smoking_status  \\\n",
       "0        Private          Urban             228.69  36.6  formerly smoked   \n",
       "1  Self-employed          Rural             202.21   NaN     never smoked   \n",
       "2        Private          Rural             105.92  32.5     never smoked   \n",
       "3        Private          Urban             171.23  34.4           smokes   \n",
       "4  Self-employed          Rural             174.12  24.0     never smoked   \n",
       "\n",
       "   stroke  \n",
       "0       1  \n",
       "1       1  \n",
       "2       1  \n",
       "3       1  \n",
       "4       1  "
      ]
     },
     "execution_count": 36,
     "metadata": {},
     "output_type": "execute_result"
    }
   ],
   "source": [
    "healthR.head()"
   ]
  },
  {
   "cell_type": "code",
   "execution_count": 37,
   "id": "e447ec01",
   "metadata": {},
   "outputs": [
    {
     "data": {
      "text/plain": [
       "(5110, 12)"
      ]
     },
     "execution_count": 37,
     "metadata": {},
     "output_type": "execute_result"
    }
   ],
   "source": [
    "healthR.shape"
   ]
  },
  {
   "cell_type": "markdown",
   "id": "a1c495bd",
   "metadata": {},
   "source": [
    "### droping Other from gender dataset"
   ]
  },
  {
   "cell_type": "code",
   "execution_count": 38,
   "id": "ab7150e5",
   "metadata": {},
   "outputs": [],
   "source": [
    "healthR = healthR.loc[healthR['gender']!='Other']"
   ]
  },
  {
   "cell_type": "code",
   "execution_count": 39,
   "id": "a1ca0423",
   "metadata": {},
   "outputs": [
    {
     "data": {
      "text/plain": [
       "gender\n",
       "Female    2994\n",
       "Male      2115\n",
       "dtype: int64"
      ]
     },
     "execution_count": 39,
     "metadata": {},
     "output_type": "execute_result"
    }
   ],
   "source": [
    "healthR.value_counts('gender')"
   ]
  },
  {
   "cell_type": "code",
   "execution_count": 40,
   "id": "018ed851",
   "metadata": {},
   "outputs": [],
   "source": [
    "cleanup = {\"ever_married\":{\"No\":0, \"Yes\":1},\n",
    "          \"work_type\":{\"Never_worked\":0, \"Govt_job\":1, \"children\":2, \"Self-employed\":3, \"Private\":4},\n",
    "          \"Residence_type\":{\"Rural\":0, \"Urban\":1},\n",
    "          \"smoking_status\":{\"smokes\":0, \"formerly smoked\":1, \"Unknown\":2, \"never smoked\":3},\n",
    "          \"gender\":{\"Male\":1, \"Female\":2}}"
   ]
  },
  {
   "cell_type": "code",
   "execution_count": 41,
   "id": "16254da3",
   "metadata": {},
   "outputs": [],
   "source": [
    "healthR.replace(cleanup, inplace=True)"
   ]
  },
  {
   "cell_type": "code",
   "execution_count": 42,
   "id": "38f9017f",
   "metadata": {},
   "outputs": [
    {
     "data": {
      "text/html": [
       "<div>\n",
       "<style scoped>\n",
       "    .dataframe tbody tr th:only-of-type {\n",
       "        vertical-align: middle;\n",
       "    }\n",
       "\n",
       "    .dataframe tbody tr th {\n",
       "        vertical-align: top;\n",
       "    }\n",
       "\n",
       "    .dataframe thead th {\n",
       "        text-align: right;\n",
       "    }\n",
       "</style>\n",
       "<table border=\"1\" class=\"dataframe\">\n",
       "  <thead>\n",
       "    <tr style=\"text-align: right;\">\n",
       "      <th></th>\n",
       "      <th>id</th>\n",
       "      <th>gender</th>\n",
       "      <th>age</th>\n",
       "      <th>hypertension</th>\n",
       "      <th>heart_disease</th>\n",
       "      <th>ever_married</th>\n",
       "      <th>work_type</th>\n",
       "      <th>Residence_type</th>\n",
       "      <th>avg_glucose_level</th>\n",
       "      <th>bmi</th>\n",
       "      <th>smoking_status</th>\n",
       "      <th>stroke</th>\n",
       "    </tr>\n",
       "  </thead>\n",
       "  <tbody>\n",
       "    <tr>\n",
       "      <th>0</th>\n",
       "      <td>9046</td>\n",
       "      <td>1</td>\n",
       "      <td>67.0</td>\n",
       "      <td>0</td>\n",
       "      <td>1</td>\n",
       "      <td>1</td>\n",
       "      <td>4</td>\n",
       "      <td>1</td>\n",
       "      <td>228.69</td>\n",
       "      <td>36.6</td>\n",
       "      <td>1</td>\n",
       "      <td>1</td>\n",
       "    </tr>\n",
       "    <tr>\n",
       "      <th>1</th>\n",
       "      <td>51676</td>\n",
       "      <td>2</td>\n",
       "      <td>61.0</td>\n",
       "      <td>0</td>\n",
       "      <td>0</td>\n",
       "      <td>1</td>\n",
       "      <td>3</td>\n",
       "      <td>0</td>\n",
       "      <td>202.21</td>\n",
       "      <td>NaN</td>\n",
       "      <td>3</td>\n",
       "      <td>1</td>\n",
       "    </tr>\n",
       "    <tr>\n",
       "      <th>2</th>\n",
       "      <td>31112</td>\n",
       "      <td>1</td>\n",
       "      <td>80.0</td>\n",
       "      <td>0</td>\n",
       "      <td>1</td>\n",
       "      <td>1</td>\n",
       "      <td>4</td>\n",
       "      <td>0</td>\n",
       "      <td>105.92</td>\n",
       "      <td>32.5</td>\n",
       "      <td>3</td>\n",
       "      <td>1</td>\n",
       "    </tr>\n",
       "    <tr>\n",
       "      <th>3</th>\n",
       "      <td>60182</td>\n",
       "      <td>2</td>\n",
       "      <td>49.0</td>\n",
       "      <td>0</td>\n",
       "      <td>0</td>\n",
       "      <td>1</td>\n",
       "      <td>4</td>\n",
       "      <td>1</td>\n",
       "      <td>171.23</td>\n",
       "      <td>34.4</td>\n",
       "      <td>0</td>\n",
       "      <td>1</td>\n",
       "    </tr>\n",
       "    <tr>\n",
       "      <th>4</th>\n",
       "      <td>1665</td>\n",
       "      <td>2</td>\n",
       "      <td>79.0</td>\n",
       "      <td>1</td>\n",
       "      <td>0</td>\n",
       "      <td>1</td>\n",
       "      <td>3</td>\n",
       "      <td>0</td>\n",
       "      <td>174.12</td>\n",
       "      <td>24.0</td>\n",
       "      <td>3</td>\n",
       "      <td>1</td>\n",
       "    </tr>\n",
       "  </tbody>\n",
       "</table>\n",
       "</div>"
      ],
      "text/plain": [
       "      id  gender   age  hypertension  heart_disease  ever_married  work_type  \\\n",
       "0   9046       1  67.0             0              1             1          4   \n",
       "1  51676       2  61.0             0              0             1          3   \n",
       "2  31112       1  80.0             0              1             1          4   \n",
       "3  60182       2  49.0             0              0             1          4   \n",
       "4   1665       2  79.0             1              0             1          3   \n",
       "\n",
       "   Residence_type  avg_glucose_level   bmi  smoking_status  stroke  \n",
       "0               1             228.69  36.6               1       1  \n",
       "1               0             202.21   NaN               3       1  \n",
       "2               0             105.92  32.5               3       1  \n",
       "3               1             171.23  34.4               0       1  \n",
       "4               0             174.12  24.0               3       1  "
      ]
     },
     "execution_count": 42,
     "metadata": {},
     "output_type": "execute_result"
    }
   ],
   "source": [
    "healthR.head()"
   ]
  },
  {
   "cell_type": "markdown",
   "id": "f672993f",
   "metadata": {},
   "source": [
    "### Droping NA and id columns"
   ]
  },
  {
   "cell_type": "code",
   "execution_count": 43,
   "id": "ef5afaf5",
   "metadata": {},
   "outputs": [],
   "source": [
    "healthR.dropna(inplace=True)"
   ]
  },
  {
   "cell_type": "code",
   "execution_count": 44,
   "id": "232b26b2",
   "metadata": {},
   "outputs": [],
   "source": [
    "healthR.drop(['id'],axis=1, inplace=True)"
   ]
  },
  {
   "cell_type": "code",
   "execution_count": 45,
   "id": "01e12df0",
   "metadata": {},
   "outputs": [
    {
     "data": {
      "text/html": [
       "<div>\n",
       "<style scoped>\n",
       "    .dataframe tbody tr th:only-of-type {\n",
       "        vertical-align: middle;\n",
       "    }\n",
       "\n",
       "    .dataframe tbody tr th {\n",
       "        vertical-align: top;\n",
       "    }\n",
       "\n",
       "    .dataframe thead th {\n",
       "        text-align: right;\n",
       "    }\n",
       "</style>\n",
       "<table border=\"1\" class=\"dataframe\">\n",
       "  <thead>\n",
       "    <tr style=\"text-align: right;\">\n",
       "      <th></th>\n",
       "      <th>gender</th>\n",
       "      <th>age</th>\n",
       "      <th>hypertension</th>\n",
       "      <th>heart_disease</th>\n",
       "      <th>ever_married</th>\n",
       "      <th>work_type</th>\n",
       "      <th>Residence_type</th>\n",
       "      <th>avg_glucose_level</th>\n",
       "      <th>bmi</th>\n",
       "      <th>smoking_status</th>\n",
       "      <th>stroke</th>\n",
       "    </tr>\n",
       "  </thead>\n",
       "  <tbody>\n",
       "    <tr>\n",
       "      <th>0</th>\n",
       "      <td>1</td>\n",
       "      <td>67.0</td>\n",
       "      <td>0</td>\n",
       "      <td>1</td>\n",
       "      <td>1</td>\n",
       "      <td>4</td>\n",
       "      <td>1</td>\n",
       "      <td>228.69</td>\n",
       "      <td>36.6</td>\n",
       "      <td>1</td>\n",
       "      <td>1</td>\n",
       "    </tr>\n",
       "    <tr>\n",
       "      <th>2</th>\n",
       "      <td>1</td>\n",
       "      <td>80.0</td>\n",
       "      <td>0</td>\n",
       "      <td>1</td>\n",
       "      <td>1</td>\n",
       "      <td>4</td>\n",
       "      <td>0</td>\n",
       "      <td>105.92</td>\n",
       "      <td>32.5</td>\n",
       "      <td>3</td>\n",
       "      <td>1</td>\n",
       "    </tr>\n",
       "    <tr>\n",
       "      <th>3</th>\n",
       "      <td>2</td>\n",
       "      <td>49.0</td>\n",
       "      <td>0</td>\n",
       "      <td>0</td>\n",
       "      <td>1</td>\n",
       "      <td>4</td>\n",
       "      <td>1</td>\n",
       "      <td>171.23</td>\n",
       "      <td>34.4</td>\n",
       "      <td>0</td>\n",
       "      <td>1</td>\n",
       "    </tr>\n",
       "    <tr>\n",
       "      <th>4</th>\n",
       "      <td>2</td>\n",
       "      <td>79.0</td>\n",
       "      <td>1</td>\n",
       "      <td>0</td>\n",
       "      <td>1</td>\n",
       "      <td>3</td>\n",
       "      <td>0</td>\n",
       "      <td>174.12</td>\n",
       "      <td>24.0</td>\n",
       "      <td>3</td>\n",
       "      <td>1</td>\n",
       "    </tr>\n",
       "    <tr>\n",
       "      <th>5</th>\n",
       "      <td>1</td>\n",
       "      <td>81.0</td>\n",
       "      <td>0</td>\n",
       "      <td>0</td>\n",
       "      <td>1</td>\n",
       "      <td>4</td>\n",
       "      <td>1</td>\n",
       "      <td>186.21</td>\n",
       "      <td>29.0</td>\n",
       "      <td>1</td>\n",
       "      <td>1</td>\n",
       "    </tr>\n",
       "  </tbody>\n",
       "</table>\n",
       "</div>"
      ],
      "text/plain": [
       "   gender   age  hypertension  heart_disease  ever_married  work_type  \\\n",
       "0       1  67.0             0              1             1          4   \n",
       "2       1  80.0             0              1             1          4   \n",
       "3       2  49.0             0              0             1          4   \n",
       "4       2  79.0             1              0             1          3   \n",
       "5       1  81.0             0              0             1          4   \n",
       "\n",
       "   Residence_type  avg_glucose_level   bmi  smoking_status  stroke  \n",
       "0               1             228.69  36.6               1       1  \n",
       "2               0             105.92  32.5               3       1  \n",
       "3               1             171.23  34.4               0       1  \n",
       "4               0             174.12  24.0               3       1  \n",
       "5               1             186.21  29.0               1       1  "
      ]
     },
     "execution_count": 45,
     "metadata": {},
     "output_type": "execute_result"
    }
   ],
   "source": [
    "healthR.head()"
   ]
  },
  {
   "cell_type": "markdown",
   "id": "8d865002",
   "metadata": {},
   "source": [
    "## Visual of heat map"
   ]
  },
  {
   "cell_type": "code",
   "execution_count": 46,
   "id": "47e3e2de",
   "metadata": {},
   "outputs": [
    {
     "data": {
      "text/plain": [
       "<AxesSubplot:>"
      ]
     },
     "execution_count": 46,
     "metadata": {},
     "output_type": "execute_result"
    },
    {
     "data": {
      "image/png": "[encoded data removed]",
      "text/plain": [
       "<Figure size 1080x720 with 2 Axes>"
      ]
     },
     "metadata": {},
     "output_type": "display_data"
    }
   ],
   "source": [
    "plt.figure(figsize=(15,10))\n",
    "sns.heatmap(data=healthR.corr(), annot=True)"
   ]
  },
  {
   "cell_type": "markdown",
   "id": "bd5e1bd6",
   "metadata": {},
   "source": [
    "### The heatmap shows that there is a correlation between age and bmi, ever_married and bmi, average glucose level and age, and heart disease and age"
   ]
  },
  {
   "cell_type": "code",
   "execution_count": 48,
   "id": "07df1f34",
   "metadata": {},
   "outputs": [
    {
     "name": "stdout",
     "output_type": "stream",
     "text": [
      "<class 'pandas.core.frame.DataFrame'>\n",
      "Int64Index: 4908 entries, 0 to 5109\n",
      "Data columns (total 11 columns):\n",
      " #   Column             Non-Null Count  Dtype  \n",
      "---  ------             --------------  -----  \n",
      " 0   gender             4908 non-null   int64  \n",
      " 1   age                4908 non-null   float64\n",
      " 2   hypertension       4908 non-null   int64  \n",
      " 3   heart_disease      4908 non-null   int64  \n",
      " 4   ever_married       4908 non-null   int64  \n",
      " 5   work_type          4908 non-null   int64  \n",
      " 6   Residence_type     4908 non-null   int64  \n",
      " 7   avg_glucose_level  4908 non-null   float64\n",
      " 8   bmi                4908 non-null   float64\n",
      " 9   smoking_status     4908 non-null   int64  \n",
      " 10  stroke             4908 non-null   int64  \n",
      "dtypes: float64(3), int64(8)\n",
      "memory usage: 460.1 KB\n"
     ]
    }
   ],
   "source": [
    "healthR.info()"
   ]
  },
  {
   "cell_type": "markdown",
   "id": "36542511",
   "metadata": {},
   "source": [
    "# Using healthR dataset, we will define a baseline model of imbalanced dataset: a model without oversampling or undersampling gives us a baseline to compare the model performance"
   ]
  },
  {
   "cell_type": "code",
   "execution_count": 49,
   "id": "1241bb19",
   "metadata": {},
   "outputs": [
    {
     "data": {
      "text/html": [
       "<div>\n",
       "<style scoped>\n",
       "    .dataframe tbody tr th:only-of-type {\n",
       "        vertical-align: middle;\n",
       "    }\n",
       "\n",
       "    .dataframe tbody tr th {\n",
       "        vertical-align: top;\n",
       "    }\n",
       "\n",
       "    .dataframe thead th {\n",
       "        text-align: right;\n",
       "    }\n",
       "</style>\n",
       "<table border=\"1\" class=\"dataframe\">\n",
       "  <thead>\n",
       "    <tr style=\"text-align: right;\">\n",
       "      <th></th>\n",
       "      <th>gender</th>\n",
       "      <th>age</th>\n",
       "      <th>hypertension</th>\n",
       "      <th>heart_disease</th>\n",
       "      <th>ever_married</th>\n",
       "      <th>work_type</th>\n",
       "      <th>Residence_type</th>\n",
       "      <th>avg_glucose_level</th>\n",
       "      <th>bmi</th>\n",
       "      <th>smoking_status</th>\n",
       "      <th>stroke</th>\n",
       "    </tr>\n",
       "  </thead>\n",
       "  <tbody>\n",
       "    <tr>\n",
       "      <th>0</th>\n",
       "      <td>1</td>\n",
       "      <td>67.0</td>\n",
       "      <td>0</td>\n",
       "      <td>1</td>\n",
       "      <td>1</td>\n",
       "      <td>4</td>\n",
       "      <td>1</td>\n",
       "      <td>228.69</td>\n",
       "      <td>36.6</td>\n",
       "      <td>1</td>\n",
       "      <td>1</td>\n",
       "    </tr>\n",
       "    <tr>\n",
       "      <th>2</th>\n",
       "      <td>1</td>\n",
       "      <td>80.0</td>\n",
       "      <td>0</td>\n",
       "      <td>1</td>\n",
       "      <td>1</td>\n",
       "      <td>4</td>\n",
       "      <td>0</td>\n",
       "      <td>105.92</td>\n",
       "      <td>32.5</td>\n",
       "      <td>3</td>\n",
       "      <td>1</td>\n",
       "    </tr>\n",
       "    <tr>\n",
       "      <th>3</th>\n",
       "      <td>2</td>\n",
       "      <td>49.0</td>\n",
       "      <td>0</td>\n",
       "      <td>0</td>\n",
       "      <td>1</td>\n",
       "      <td>4</td>\n",
       "      <td>1</td>\n",
       "      <td>171.23</td>\n",
       "      <td>34.4</td>\n",
       "      <td>0</td>\n",
       "      <td>1</td>\n",
       "    </tr>\n",
       "    <tr>\n",
       "      <th>4</th>\n",
       "      <td>2</td>\n",
       "      <td>79.0</td>\n",
       "      <td>1</td>\n",
       "      <td>0</td>\n",
       "      <td>1</td>\n",
       "      <td>3</td>\n",
       "      <td>0</td>\n",
       "      <td>174.12</td>\n",
       "      <td>24.0</td>\n",
       "      <td>3</td>\n",
       "      <td>1</td>\n",
       "    </tr>\n",
       "    <tr>\n",
       "      <th>5</th>\n",
       "      <td>1</td>\n",
       "      <td>81.0</td>\n",
       "      <td>0</td>\n",
       "      <td>0</td>\n",
       "      <td>1</td>\n",
       "      <td>4</td>\n",
       "      <td>1</td>\n",
       "      <td>186.21</td>\n",
       "      <td>29.0</td>\n",
       "      <td>1</td>\n",
       "      <td>1</td>\n",
       "    </tr>\n",
       "  </tbody>\n",
       "</table>\n",
       "</div>"
      ],
      "text/plain": [
       "   gender   age  hypertension  heart_disease  ever_married  work_type  \\\n",
       "0       1  67.0             0              1             1          4   \n",
       "2       1  80.0             0              1             1          4   \n",
       "3       2  49.0             0              0             1          4   \n",
       "4       2  79.0             1              0             1          3   \n",
       "5       1  81.0             0              0             1          4   \n",
       "\n",
       "   Residence_type  avg_glucose_level   bmi  smoking_status  stroke  \n",
       "0               1             228.69  36.6               1       1  \n",
       "2               0             105.92  32.5               3       1  \n",
       "3               1             171.23  34.4               0       1  \n",
       "4               0             174.12  24.0               3       1  \n",
       "5               1             186.21  29.0               1       1  "
      ]
     },
     "execution_count": 49,
     "metadata": {},
     "output_type": "execute_result"
    }
   ],
   "source": [
    "healthR.head()"
   ]
  },
  {
   "cell_type": "code",
   "execution_count": 50,
   "id": "aa34dced",
   "metadata": {},
   "outputs": [],
   "source": [
    "## define X and Y Variables\n",
    "\n",
    "x=healthR.drop('stroke', axis=1)\n",
    "y=healthR['stroke']"
   ]
  },
  {
   "cell_type": "code",
   "execution_count": 51,
   "id": "6b586451",
   "metadata": {},
   "outputs": [
    {
     "data": {
      "text/plain": [
       "0    4699\n",
       "1     209\n",
       "Name: stroke, dtype: int64"
      ]
     },
     "execution_count": 51,
     "metadata": {},
     "output_type": "execute_result"
    },
    {
     "data": {
      "image/png": "[encoded data removed]",
      "text/plain": [
       "<Figure size 432x288 with 1 Axes>"
      ]
     },
     "metadata": {},
     "output_type": "display_data"
    }
   ],
   "source": [
    "## Visual of stroke pie\n",
    "y.value_counts().plot.pie(autopct=\"%.2f\")\n",
    "\n",
    "## Class distribution\n",
    "## 0 represents the non-occurence of stroke and 1 represents the occurence of stroke\n",
    "\n",
    "y.value_counts()"
   ]
  },
  {
   "cell_type": "code",
   "execution_count": 52,
   "id": "3e9c7e4f",
   "metadata": {},
   "outputs": [
    {
     "data": {
      "text/plain": [
       "((3926, 10), (3926,), (982, 10), (982,))"
      ]
     },
     "execution_count": 52,
     "metadata": {},
     "output_type": "execute_result"
    }
   ],
   "source": [
    "## Train test split\n",
    "\n",
    "from sklearn.model_selection import train_test_split\n",
    "\n",
    "x_train,x_test,y_train,y_test=train_test_split(x,y,test_size=0.2,random_state=42)\n",
    "x_train.shape, y_train.shape, x_test.shape, y_test.shape"
   ]
  },
  {
   "cell_type": "code",
   "execution_count": 53,
   "id": "060722a4",
   "metadata": {},
   "outputs": [
    {
     "data": {
      "text/plain": [
       "0    3770\n",
       "1     156\n",
       "Name: stroke, dtype: int64"
      ]
     },
     "execution_count": 53,
     "metadata": {},
     "output_type": "execute_result"
    },
    {
     "data": {
      "image/png": "[encoded data removed]",
      "text/plain": [
       "<Figure size 432x288 with 1 Axes>"
      ]
     },
     "metadata": {},
     "output_type": "display_data"
    }
   ],
   "source": [
    "## Visual of stroke training pie plot\n",
    "y_train.value_counts().plot.pie(autopct=\"%.2f\")\n",
    "\n",
    "## class distribution\n",
    "y_train.value_counts()"
   ]
  },
  {
   "cell_type": "markdown",
   "id": "ab26cccf",
   "metadata": {},
   "source": [
    "## Feature scaling"
   ]
  },
  {
   "cell_type": "code",
   "execution_count": 73,
   "id": "9fd02939",
   "metadata": {},
   "outputs": [],
   "source": [
    "from sklearn.preprocessing import StandardScaler\n",
    "\n",
    "sc = StandardScaler()\n",
    "x_train = sc.fit_transform(x_train)\n",
    "x_test = sc.transform(x_test)"
   ]
  },
  {
   "cell_type": "markdown",
   "id": "40a201e3",
   "metadata": {},
   "source": [
    "## Train the Random Forest Model"
   ]
  },
  {
   "cell_type": "code",
   "execution_count": 76,
   "id": "12340e2c",
   "metadata": {},
   "outputs": [
    {
     "name": "stdout",
     "output_type": "stream",
     "text": [
      "              precision    recall  f1-score   support\n",
      "\n",
      "           0       0.96      1.00      0.98       773\n",
      "           1       0.00      0.00      0.00        32\n",
      "\n",
      "    accuracy                           0.96       805\n",
      "   macro avg       0.48      0.50      0.49       805\n",
      "weighted avg       0.92      0.96      0.94       805\n",
      "\n",
      "Training Score: 95.74137395088592\n",
      "Test Score: 96.02484472049689\n"
     ]
    },
    {
     "name": "stderr",
     "output_type": "stream",
     "text": [
      "C:\\Users\\jmubalutila\\Anaconda3\\lib\\site-packages\\sklearn\\metrics\\_classification.py:1318: UndefinedMetricWarning: Precision and F-score are ill-defined and being set to 0.0 in labels with no predicted samples. Use `zero_division` parameter to control this behavior.\n",
      "  _warn_prf(average, modifier, msg_start, len(result))\n",
      "C:\\Users\\jmubalutila\\Anaconda3\\lib\\site-packages\\sklearn\\metrics\\_classification.py:1318: UndefinedMetricWarning: Precision and F-score are ill-defined and being set to 0.0 in labels with no predicted samples. Use `zero_division` parameter to control this behavior.\n",
      "  _warn_prf(average, modifier, msg_start, len(result))\n",
      "C:\\Users\\jmubalutila\\Anaconda3\\lib\\site-packages\\sklearn\\metrics\\_classification.py:1318: UndefinedMetricWarning: Precision and F-score are ill-defined and being set to 0.0 in labels with no predicted samples. Use `zero_division` parameter to control this behavior.\n",
      "  _warn_prf(average, modifier, msg_start, len(result))\n"
     ]
    }
   ],
   "source": [
    "rf = RandomForestClassifier()\n",
    "baseline_model = rf.fit(x_train, y_train)\n",
    "baseline_prediction = baseline_model.predict(x_test)\n",
    "\n",
    "# check the model peformance\n",
    "print(classification_report(y_test, baseline_prediction))\n",
    "print(\"Training Score:\",rf.score(x_train,y_train)*100)\n",
    "print(\"Test Score:\",rf.score(x_test, y_test)*100)"
   ]
  },
  {
   "cell_type": "markdown",
   "id": "f5652d37",
   "metadata": {},
   "source": [
    "### the KNN algorithm is correct at 96% about predicting the non occurence of a stroke. However, it fails to predict at what extent a stroke may occur. "
   ]
  },
  {
   "cell_type": "markdown",
   "id": "ce381d49",
   "metadata": {},
   "source": [
    "# Creating healthR dataset for gender "
   ]
  },
  {
   "cell_type": "code",
   "execution_count": 150,
   "id": "b336ce77",
   "metadata": {},
   "outputs": [],
   "source": [
    "healthRgender = healthR.drop(['age','hypertension','heart_disease','ever_married','work_type','Residence_type','avg_glucose_level','bmi','smoking_status'],axis=1)"
   ]
  },
  {
   "cell_type": "code",
   "execution_count": 151,
   "id": "ee060750",
   "metadata": {},
   "outputs": [
    {
     "data": {
      "text/html": [
       "<div>\n",
       "<style scoped>\n",
       "    .dataframe tbody tr th:only-of-type {\n",
       "        vertical-align: middle;\n",
       "    }\n",
       "\n",
       "    .dataframe tbody tr th {\n",
       "        vertical-align: top;\n",
       "    }\n",
       "\n",
       "    .dataframe thead th {\n",
       "        text-align: right;\n",
       "    }\n",
       "</style>\n",
       "<table border=\"1\" class=\"dataframe\">\n",
       "  <thead>\n",
       "    <tr style=\"text-align: right;\">\n",
       "      <th></th>\n",
       "      <th>gender</th>\n",
       "      <th>stroke</th>\n",
       "    </tr>\n",
       "  </thead>\n",
       "  <tbody>\n",
       "    <tr>\n",
       "      <th>0</th>\n",
       "      <td>1</td>\n",
       "      <td>1</td>\n",
       "    </tr>\n",
       "    <tr>\n",
       "      <th>2</th>\n",
       "      <td>1</td>\n",
       "      <td>1</td>\n",
       "    </tr>\n",
       "    <tr>\n",
       "      <th>3</th>\n",
       "      <td>2</td>\n",
       "      <td>1</td>\n",
       "    </tr>\n",
       "    <tr>\n",
       "      <th>4</th>\n",
       "      <td>2</td>\n",
       "      <td>1</td>\n",
       "    </tr>\n",
       "    <tr>\n",
       "      <th>5</th>\n",
       "      <td>1</td>\n",
       "      <td>1</td>\n",
       "    </tr>\n",
       "  </tbody>\n",
       "</table>\n",
       "</div>"
      ],
      "text/plain": [
       "   gender  stroke\n",
       "0       1       1\n",
       "2       1       1\n",
       "3       2       1\n",
       "4       2       1\n",
       "5       1       1"
      ]
     },
     "execution_count": 151,
     "metadata": {},
     "output_type": "execute_result"
    }
   ],
   "source": [
    "healthRgender.head()"
   ]
  },
  {
   "cell_type": "markdown",
   "id": "12b63db3",
   "metadata": {},
   "source": [
    "# Undersampling of HealthRgender dataset"
   ]
  },
  {
   "cell_type": "code",
   "execution_count": 152,
   "id": "f367c4d3",
   "metadata": {},
   "outputs": [
    {
     "name": "stderr",
     "output_type": "stream",
     "text": [
      "C:\\Users\\jmubalutila\\Anaconda3\\lib\\site-packages\\seaborn\\_decorators.py:36: FutureWarning: Pass the following variable as a keyword arg: x. From version 0.12, the only valid positional argument will be `data`, and passing other arguments without an explicit keyword will result in an error or misinterpretation.\n",
      "  warnings.warn(\n"
     ]
    },
    {
     "data": {
      "image/png": "[encoded data removed]",
      "text/plain": [
       "<Figure size 576x576 with 1 Axes>"
      ]
     },
     "metadata": {},
     "output_type": "display_data"
    }
   ],
   "source": [
    "# Shuffle the Dataset.\n",
    "shuffled_healthRgender = healthRgender.sample(frac=1,random_state=4)\n",
    "\n",
    "# Put all the male class in a separate dataset.\n",
    "male_healthRgender = shuffled_healthRgender.loc[shuffled_healthRgender['gender'] == 1]\n",
    "\n",
    "#Randomly select 2994 observations from the female class (majority class)\n",
    "female_healthRgender = shuffled_healthRgender.loc[shuffled_healthRgender['gender'] == 2].sample(n=2011,random_state=42)\n",
    "\n",
    "# Concatenate both dataframes again\n",
    "normalized_healthRgender = pd.concat([male_healthRgender, female_healthRgender])\n",
    "\n",
    "#plot the dataset after the undersampling\n",
    "plt.figure(figsize=(8, 8))\n",
    "sns.countplot('gender', data=normalized_healthRgender)\n",
    "plt.title('Balanced Gender')\n",
    "plt.show()"
   ]
  },
  {
   "cell_type": "code",
   "execution_count": 153,
   "id": "35f1e26e",
   "metadata": {},
   "outputs": [
    {
     "data": {
      "text/html": [
       "<div>\n",
       "<style scoped>\n",
       "    .dataframe tbody tr th:only-of-type {\n",
       "        vertical-align: middle;\n",
       "    }\n",
       "\n",
       "    .dataframe tbody tr th {\n",
       "        vertical-align: top;\n",
       "    }\n",
       "\n",
       "    .dataframe thead th {\n",
       "        text-align: right;\n",
       "    }\n",
       "</style>\n",
       "<table border=\"1\" class=\"dataframe\">\n",
       "  <thead>\n",
       "    <tr style=\"text-align: right;\">\n",
       "      <th></th>\n",
       "      <th>gender</th>\n",
       "      <th>stroke</th>\n",
       "    </tr>\n",
       "  </thead>\n",
       "  <tbody>\n",
       "    <tr>\n",
       "      <th>4209</th>\n",
       "      <td>1</td>\n",
       "      <td>0</td>\n",
       "    </tr>\n",
       "    <tr>\n",
       "      <th>2472</th>\n",
       "      <td>1</td>\n",
       "      <td>0</td>\n",
       "    </tr>\n",
       "    <tr>\n",
       "      <th>3468</th>\n",
       "      <td>1</td>\n",
       "      <td>0</td>\n",
       "    </tr>\n",
       "    <tr>\n",
       "      <th>3996</th>\n",
       "      <td>1</td>\n",
       "      <td>0</td>\n",
       "    </tr>\n",
       "    <tr>\n",
       "      <th>1787</th>\n",
       "      <td>1</td>\n",
       "      <td>0</td>\n",
       "    </tr>\n",
       "  </tbody>\n",
       "</table>\n",
       "</div>"
      ],
      "text/plain": [
       "      gender  stroke\n",
       "4209       1       0\n",
       "2472       1       0\n",
       "3468       1       0\n",
       "3996       1       0\n",
       "1787       1       0"
      ]
     },
     "execution_count": 153,
     "metadata": {},
     "output_type": "execute_result"
    }
   ],
   "source": [
    "normalized_healthRgender.head()"
   ]
  },
  {
   "cell_type": "code",
   "execution_count": 154,
   "id": "f894ee20",
   "metadata": {},
   "outputs": [
    {
     "data": {
      "text/plain": [
       "gender  stroke\n",
       "2       0         1931\n",
       "1       0         1922\n",
       "        1           89\n",
       "2       1           80\n",
       "dtype: int64"
      ]
     },
     "execution_count": 154,
     "metadata": {},
     "output_type": "execute_result"
    }
   ],
   "source": [
    "normalized_healthRgender.value_counts()"
   ]
  },
  {
   "cell_type": "markdown",
   "id": "205588ba",
   "metadata": {},
   "source": [
    "## Train test split of undersampled healthRgender dataset"
   ]
  },
  {
   "cell_type": "code",
   "execution_count": 155,
   "id": "0d3a01ca",
   "metadata": {},
   "outputs": [],
   "source": [
    "## Determine x and y variables\n",
    "\n",
    "x=normalized_healthRgender.drop('stroke', axis=1)\n",
    "y=normalized_healthRgender['stroke']"
   ]
  },
  {
   "cell_type": "code",
   "execution_count": 156,
   "id": "268284e5",
   "metadata": {},
   "outputs": [
    {
     "data": {
      "text/plain": [
       "((3217, 1), (3217,), (805, 1), (805,))"
      ]
     },
     "execution_count": 156,
     "metadata": {},
     "output_type": "execute_result"
    }
   ],
   "source": [
    "from sklearn.model_selection import train_test_split\n",
    "x_train,x_test,y_train,y_test=train_test_split(x,y,test_size=0.2,random_state=42)\n",
    "x_train.shape, y_train.shape, x_test.shape, y_test.shape"
   ]
  },
  {
   "cell_type": "markdown",
   "id": "4e121a18",
   "metadata": {},
   "source": [
    "## Train the Random Forest Model"
   ]
  },
  {
   "cell_type": "code",
   "execution_count": 157,
   "id": "69f9620f",
   "metadata": {},
   "outputs": [
    {
     "name": "stdout",
     "output_type": "stream",
     "text": [
      "              precision    recall  f1-score   support\n",
      "\n",
      "           0       0.96      1.00      0.98       773\n",
      "           1       0.00      0.00      0.00        32\n",
      "\n",
      "    accuracy                           0.96       805\n",
      "   macro avg       0.48      0.50      0.49       805\n",
      "weighted avg       0.92      0.96      0.94       805\n",
      "\n",
      "Training Score: 95.74137395088592\n",
      "Test Score: 96.02484472049689\n"
     ]
    },
    {
     "name": "stderr",
     "output_type": "stream",
     "text": [
      "C:\\Users\\jmubalutila\\Anaconda3\\lib\\site-packages\\sklearn\\metrics\\_classification.py:1318: UndefinedMetricWarning: Precision and F-score are ill-defined and being set to 0.0 in labels with no predicted samples. Use `zero_division` parameter to control this behavior.\n",
      "  _warn_prf(average, modifier, msg_start, len(result))\n",
      "C:\\Users\\jmubalutila\\Anaconda3\\lib\\site-packages\\sklearn\\metrics\\_classification.py:1318: UndefinedMetricWarning: Precision and F-score are ill-defined and being set to 0.0 in labels with no predicted samples. Use `zero_division` parameter to control this behavior.\n",
      "  _warn_prf(average, modifier, msg_start, len(result))\n",
      "C:\\Users\\jmubalutila\\Anaconda3\\lib\\site-packages\\sklearn\\metrics\\_classification.py:1318: UndefinedMetricWarning: Precision and F-score are ill-defined and being set to 0.0 in labels with no predicted samples. Use `zero_division` parameter to control this behavior.\n",
      "  _warn_prf(average, modifier, msg_start, len(result))\n"
     ]
    }
   ],
   "source": [
    "rf = RandomForestClassifier()\n",
    "baseline_model = rf.fit(x_train, y_train)\n",
    "baseline_prediction = baseline_model.predict(x_test)\n",
    "\n",
    "# check the model peformance\n",
    "print(classification_report(y_test, baseline_prediction))\n",
    "print(\"Training Score:\",rf.score(x_train,y_train)*100)\n",
    "print(\"Test Score:\",rf.score(x_test, y_test)*100)"
   ]
  },
  {
   "cell_type": "markdown",
   "id": "0c8aa1e5",
   "metadata": {},
   "source": [
    "### the KNN algorithm is correct at 96% about predicting the non occurence of a stroke. However, it fails to predict at what extent a stroke may occur. Undersampling model appears to be similar to Base model "
   ]
  },
  {
   "cell_type": "markdown",
   "id": "161ba68d",
   "metadata": {},
   "source": [
    "## Oversampling of HealthRgender dataset using BalancedBaggingClassifier from imblearn library. This classifier is known to favor the majority class and create a biased model."
   ]
  },
  {
   "cell_type": "code",
   "execution_count": 185,
   "id": "44db8669",
   "metadata": {},
   "outputs": [
    {
     "name": "stdout",
     "output_type": "stream",
     "text": [
      "              precision    recall  f1-score   support\n",
      "\n",
      "           0       0.94      0.59      0.72       929\n",
      "           1       0.04      0.34      0.08        53\n",
      "\n",
      "    accuracy                           0.57       982\n",
      "   macro avg       0.49      0.46      0.40       982\n",
      "weighted avg       0.89      0.57      0.69       982\n",
      "\n"
     ]
    }
   ],
   "source": [
    "from imblearn.ensemble import BalancedBaggingClassifier\n",
    "from sklearn.tree import DecisionTreeClassifier\n",
    "\n",
    "#Create an object of the classifier.\n",
    "bbc = BalancedBaggingClassifier(base_estimator=DecisionTreeClassifier(),\n",
    "                                sampling_strategy='auto',\n",
    "                                replacement=False,\n",
    "                                random_state=0)\n",
    "\n",
    "#Determine x and y variables\n",
    "y = healthRgender['stroke']\n",
    "x = healthRgender.drop(['stroke'], axis=1, inplace=False)\n",
    "\n",
    "#Train test split the Classifier\n",
    "from sklearn.model_selection import train_test_split\n",
    "x_train,x_test,y_train,y_test=train_test_split(x,y,test_size=0.2,random_state=42)\n",
    "x_train.shape, y_train.shape, x_test.shape, y_test.shape\n",
    "\n",
    "#Train the Random Forest.\n",
    "rf = RandomForestClassifier()\n",
    "baseline_model = bbc.fit(x_train, y_train)\n",
    "baseline_prediction = bbc.predict(x_test)\n",
    "\n",
    "# check the model peformance\n",
    "print(classification_report(y_test, baseline_prediction))"
   ]
  },
  {
   "cell_type": "markdown",
   "id": "f5f3ddba",
   "metadata": {},
   "source": [
    "### The KNN algorithm is accurate at approximately 4% about predicting the outcome of a stroke. The model is also accurate at approximately 94% about predicting the non occurence of a stroke."
   ]
  },
  {
   "cell_type": "markdown",
   "id": "ad667c4a",
   "metadata": {},
   "source": [
    "# Creating healthR dataset for smoking status"
   ]
  },
  {
   "cell_type": "code",
   "execution_count": 186,
   "id": "2359de22",
   "metadata": {},
   "outputs": [],
   "source": [
    "healthRsmoking = healthR.drop(['age','gender','hypertension','heart_disease','ever_married','work_type','Residence_type','avg_glucose_level','bmi'],axis=1)"
   ]
  },
  {
   "cell_type": "code",
   "execution_count": 187,
   "id": "376b6f22",
   "metadata": {},
   "outputs": [
    {
     "data": {
      "text/html": [
       "<div>\n",
       "<style scoped>\n",
       "    .dataframe tbody tr th:only-of-type {\n",
       "        vertical-align: middle;\n",
       "    }\n",
       "\n",
       "    .dataframe tbody tr th {\n",
       "        vertical-align: top;\n",
       "    }\n",
       "\n",
       "    .dataframe thead th {\n",
       "        text-align: right;\n",
       "    }\n",
       "</style>\n",
       "<table border=\"1\" class=\"dataframe\">\n",
       "  <thead>\n",
       "    <tr style=\"text-align: right;\">\n",
       "      <th></th>\n",
       "      <th>smoking_status</th>\n",
       "      <th>stroke</th>\n",
       "    </tr>\n",
       "  </thead>\n",
       "  <tbody>\n",
       "    <tr>\n",
       "      <th>0</th>\n",
       "      <td>1</td>\n",
       "      <td>1</td>\n",
       "    </tr>\n",
       "    <tr>\n",
       "      <th>2</th>\n",
       "      <td>3</td>\n",
       "      <td>1</td>\n",
       "    </tr>\n",
       "    <tr>\n",
       "      <th>3</th>\n",
       "      <td>0</td>\n",
       "      <td>1</td>\n",
       "    </tr>\n",
       "    <tr>\n",
       "      <th>4</th>\n",
       "      <td>3</td>\n",
       "      <td>1</td>\n",
       "    </tr>\n",
       "    <tr>\n",
       "      <th>5</th>\n",
       "      <td>1</td>\n",
       "      <td>1</td>\n",
       "    </tr>\n",
       "  </tbody>\n",
       "</table>\n",
       "</div>"
      ],
      "text/plain": [
       "   smoking_status  stroke\n",
       "0               1       1\n",
       "2               3       1\n",
       "3               0       1\n",
       "4               3       1\n",
       "5               1       1"
      ]
     },
     "execution_count": 187,
     "metadata": {},
     "output_type": "execute_result"
    }
   ],
   "source": [
    "healthRsmoking.head()\n",
    "\n",
    "# 0 represents smokes, 1 formerly smoked, 2 Unknown, 3 never smoked"
   ]
  },
  {
   "cell_type": "markdown",
   "id": "3bc89b2f",
   "metadata": {},
   "source": [
    "# Undersampling of healthRsmoking dataset "
   ]
  },
  {
   "cell_type": "code",
   "execution_count": 220,
   "id": "a56a1f1c",
   "metadata": {},
   "outputs": [
    {
     "name": "stderr",
     "output_type": "stream",
     "text": [
      "C:\\Users\\jmubalutila\\Anaconda3\\lib\\site-packages\\seaborn\\_decorators.py:36: FutureWarning: Pass the following variable as a keyword arg: x. From version 0.12, the only valid positional argument will be `data`, and passing other arguments without an explicit keyword will result in an error or misinterpretation.\n",
      "  warnings.warn(\n"
     ]
    },
    {
     "data": {
      "image/png": "[encoded data removed]",
      "text/plain": [
       "<Figure size 576x576 with 1 Axes>"
      ]
     },
     "metadata": {},
     "output_type": "display_data"
    }
   ],
   "source": [
    "# Shuffle the Dataset.\n",
    "shuffled_healthRsmoking = healthRsmoking.sample(frac=1,random_state=4)\n",
    "\n",
    "# Put all the smoker class in a separate dataset.\n",
    "smokes_healthRsmoking = shuffled_healthRsmoking.loc[shuffled_healthRsmoking['smoking_status'] == 0]\n",
    "\n",
    "#Randomly select observations from the smoker classes (majority classes)\n",
    "formerlysmoked_healthRsmoking = shuffled_healthRsmoking.loc[shuffled_healthRsmoking['smoking_status'] == 1].sample(n=737,random_state=42)\n",
    "Unknown_healthRsmoking = shuffled_healthRsmoking.loc[shuffled_healthRsmoking['smoking_status'] == 2].sample(n=737,random_state=42)\n",
    "neversmoked_healthRsmoking = shuffled_healthRsmoking.loc[shuffled_healthRsmoking['smoking_status'] == 3].sample(n=737,random_state=42)\n",
    "\n",
    "# Concatenate both dataframes again\n",
    "normalized_healthRsmoking = pd.concat([smokes_healthRsmoking, formerlysmoked_healthRsmoking, Unknown_healthRsmoking, neversmoked_healthRsmoking])\n",
    "\n",
    "#plot the dataset after the undersampling\n",
    "plt.figure(figsize=(8, 8))\n",
    "sns.countplot('smoking_status', data=normalized_healthRsmoking)\n",
    "plt.title('Balanced Smoking Status')\n",
    "plt.show()"
   ]
  },
  {
   "cell_type": "code",
   "execution_count": 189,
   "id": "1ec2c45d",
   "metadata": {},
   "outputs": [
    {
     "data": {
      "text/html": [
       "<div>\n",
       "<style scoped>\n",
       "    .dataframe tbody tr th:only-of-type {\n",
       "        vertical-align: middle;\n",
       "    }\n",
       "\n",
       "    .dataframe tbody tr th {\n",
       "        vertical-align: top;\n",
       "    }\n",
       "\n",
       "    .dataframe thead th {\n",
       "        text-align: right;\n",
       "    }\n",
       "</style>\n",
       "<table border=\"1\" class=\"dataframe\">\n",
       "  <thead>\n",
       "    <tr style=\"text-align: right;\">\n",
       "      <th></th>\n",
       "      <th>smoking_status</th>\n",
       "      <th>stroke</th>\n",
       "    </tr>\n",
       "  </thead>\n",
       "  <tbody>\n",
       "    <tr>\n",
       "      <th>224</th>\n",
       "      <td>0</td>\n",
       "      <td>1</td>\n",
       "    </tr>\n",
       "    <tr>\n",
       "      <th>2691</th>\n",
       "      <td>0</td>\n",
       "      <td>0</td>\n",
       "    </tr>\n",
       "    <tr>\n",
       "      <th>2413</th>\n",
       "      <td>0</td>\n",
       "      <td>0</td>\n",
       "    </tr>\n",
       "    <tr>\n",
       "      <th>193</th>\n",
       "      <td>0</td>\n",
       "      <td>1</td>\n",
       "    </tr>\n",
       "    <tr>\n",
       "      <th>1443</th>\n",
       "      <td>0</td>\n",
       "      <td>0</td>\n",
       "    </tr>\n",
       "  </tbody>\n",
       "</table>\n",
       "</div>"
      ],
      "text/plain": [
       "      smoking_status  stroke\n",
       "224                0       1\n",
       "2691               0       0\n",
       "2413               0       0\n",
       "193                0       1\n",
       "1443               0       0"
      ]
     },
     "execution_count": 189,
     "metadata": {},
     "output_type": "execute_result"
    }
   ],
   "source": [
    "normalized_healthRsmoking.head()"
   ]
  },
  {
   "cell_type": "code",
   "execution_count": 190,
   "id": "fdb6fdd7",
   "metadata": {},
   "outputs": [
    {
     "data": {
      "text/plain": [
       "smoking_status  stroke\n",
       "2               0         723\n",
       "3               0         710\n",
       "0               0         698\n",
       "1               0         691\n",
       "                1          46\n",
       "0               1          39\n",
       "3               1          27\n",
       "2               1          14\n",
       "dtype: int64"
      ]
     },
     "execution_count": 190,
     "metadata": {},
     "output_type": "execute_result"
    }
   ],
   "source": [
    "normalized_healthRsmoking.value_counts()"
   ]
  },
  {
   "cell_type": "markdown",
   "id": "4d3c6e45",
   "metadata": {},
   "source": [
    "## Train test split of normalized_healthRsmoking dataset"
   ]
  },
  {
   "cell_type": "code",
   "execution_count": 191,
   "id": "5681c73c",
   "metadata": {},
   "outputs": [],
   "source": [
    "## Determine x and y variables\n",
    "\n",
    "x=normalized_healthRsmoking.drop('stroke', axis=1)\n",
    "y=normalized_healthRsmoking['stroke']"
   ]
  },
  {
   "cell_type": "code",
   "execution_count": 192,
   "id": "265c75c2",
   "metadata": {},
   "outputs": [
    {
     "data": {
      "text/plain": [
       "((2358, 1), (2358,), (590, 1), (590,))"
      ]
     },
     "execution_count": 192,
     "metadata": {},
     "output_type": "execute_result"
    }
   ],
   "source": [
    "from sklearn.model_selection import train_test_split\n",
    "x_train,x_test,y_train,y_test=train_test_split(x,y,test_size=0.2,random_state=42)\n",
    "x_train.shape, y_train.shape, x_test.shape, y_test.shape"
   ]
  },
  {
   "cell_type": "markdown",
   "id": "b8700c60",
   "metadata": {},
   "source": [
    "## Train the Random Forest Model"
   ]
  },
  {
   "cell_type": "code",
   "execution_count": 193,
   "id": "2dd7b14d",
   "metadata": {},
   "outputs": [
    {
     "name": "stdout",
     "output_type": "stream",
     "text": [
      "              precision    recall  f1-score   support\n",
      "\n",
      "           0       0.96      1.00      0.98       565\n",
      "           1       0.00      0.00      0.00        25\n",
      "\n",
      "    accuracy                           0.96       590\n",
      "   macro avg       0.48      0.50      0.49       590\n",
      "weighted avg       0.92      0.96      0.94       590\n",
      "\n",
      "Training Score: 95.7167090754877\n",
      "Test Score: 95.76271186440678\n"
     ]
    },
    {
     "name": "stderr",
     "output_type": "stream",
     "text": [
      "C:\\Users\\jmubalutila\\Anaconda3\\lib\\site-packages\\sklearn\\metrics\\_classification.py:1318: UndefinedMetricWarning: Precision and F-score are ill-defined and being set to 0.0 in labels with no predicted samples. Use `zero_division` parameter to control this behavior.\n",
      "  _warn_prf(average, modifier, msg_start, len(result))\n",
      "C:\\Users\\jmubalutila\\Anaconda3\\lib\\site-packages\\sklearn\\metrics\\_classification.py:1318: UndefinedMetricWarning: Precision and F-score are ill-defined and being set to 0.0 in labels with no predicted samples. Use `zero_division` parameter to control this behavior.\n",
      "  _warn_prf(average, modifier, msg_start, len(result))\n",
      "C:\\Users\\jmubalutila\\Anaconda3\\lib\\site-packages\\sklearn\\metrics\\_classification.py:1318: UndefinedMetricWarning: Precision and F-score are ill-defined and being set to 0.0 in labels with no predicted samples. Use `zero_division` parameter to control this behavior.\n",
      "  _warn_prf(average, modifier, msg_start, len(result))\n"
     ]
    }
   ],
   "source": [
    "rf = RandomForestClassifier()\n",
    "baseline_model = rf.fit(x_train, y_train)\n",
    "baseline_prediction = baseline_model.predict(x_test)\n",
    "\n",
    "# check the model peformance\n",
    "print(classification_report(y_test, baseline_prediction))\n",
    "print(\"Training Score:\",rf.score(x_train,y_train)*100)\n",
    "print(\"Test Score:\",rf.score(x_test, y_test)*100)"
   ]
  },
  {
   "cell_type": "markdown",
   "id": "d6928cb1",
   "metadata": {},
   "source": [
    "### The KNN algorithm is accurate at approximately 96% about predicting the non occurence of a stroke. however it failed to provide a model for the occurence of a stroke. "
   ]
  },
  {
   "cell_type": "markdown",
   "id": "a78c087b",
   "metadata": {},
   "source": [
    "## Oversampling of HealthRsmoking dataset using BalancedBaggingClassifier"
   ]
  },
  {
   "cell_type": "code",
   "execution_count": 194,
   "id": "02180fbb",
   "metadata": {},
   "outputs": [
    {
     "name": "stdout",
     "output_type": "stream",
     "text": [
      "              precision    recall  f1-score   support\n",
      "\n",
      "           0       0.98      0.31      0.48       929\n",
      "           1       0.07      0.87      0.13        53\n",
      "\n",
      "    accuracy                           0.34       982\n",
      "   macro avg       0.52      0.59      0.30       982\n",
      "weighted avg       0.93      0.34      0.46       982\n",
      "\n"
     ]
    }
   ],
   "source": [
    "from imblearn.ensemble import BalancedBaggingClassifier\n",
    "from sklearn.tree import DecisionTreeClassifier\n",
    "\n",
    "#Create an object of the classifier.\n",
    "bbc = BalancedBaggingClassifier(base_estimator=DecisionTreeClassifier(),\n",
    "                                sampling_strategy='auto',\n",
    "                                replacement=False,\n",
    "                                random_state=0)\n",
    "\n",
    "#Determine x and y variables\n",
    "y = healthRsmoking['stroke']\n",
    "x = healthRsmoking.drop(['stroke'], axis=1, inplace=False)\n",
    "\n",
    "#Train test split the Classifier\n",
    "from sklearn.model_selection import train_test_split\n",
    "x_train,x_test,y_train,y_test=train_test_split(x,y,test_size=0.2,random_state=42)\n",
    "x_train.shape, y_train.shape, x_test.shape, y_test.shape\n",
    "\n",
    "#Train the Random Forest.\n",
    "rf = RandomForestClassifier()\n",
    "baseline_model = bbc.fit(x_train, y_train)\n",
    "baseline_prediction = bbc.predict(x_test)\n",
    "\n",
    "# check the model peformance\n",
    "print(classification_report(y_test, baseline_prediction))"
   ]
  },
  {
   "cell_type": "markdown",
   "id": "c803e81b",
   "metadata": {},
   "source": [
    "### The KNN algorithm is accurate at approximately 7% about predicting the outcome of a stroke. The model is also accurate at approximately 98% about predicting the non occurence of a stroke."
   ]
  },
  {
   "cell_type": "markdown",
   "id": "320e0993",
   "metadata": {},
   "source": [
    "# Creating healthR dataset for work type"
   ]
  },
  {
   "cell_type": "code",
   "execution_count": 210,
   "id": "515adede",
   "metadata": {},
   "outputs": [],
   "source": [
    "healthRwork = healthR.drop(['age','gender','hypertension','heart_disease','ever_married','smoking_status','Residence_type','avg_glucose_level','bmi','smoking_status'],axis=1)"
   ]
  },
  {
   "cell_type": "code",
   "execution_count": 211,
   "id": "c89ae94f",
   "metadata": {},
   "outputs": [
    {
     "data": {
      "text/html": [
       "<div>\n",
       "<style scoped>\n",
       "    .dataframe tbody tr th:only-of-type {\n",
       "        vertical-align: middle;\n",
       "    }\n",
       "\n",
       "    .dataframe tbody tr th {\n",
       "        vertical-align: top;\n",
       "    }\n",
       "\n",
       "    .dataframe thead th {\n",
       "        text-align: right;\n",
       "    }\n",
       "</style>\n",
       "<table border=\"1\" class=\"dataframe\">\n",
       "  <thead>\n",
       "    <tr style=\"text-align: right;\">\n",
       "      <th></th>\n",
       "      <th>work_type</th>\n",
       "      <th>stroke</th>\n",
       "    </tr>\n",
       "  </thead>\n",
       "  <tbody>\n",
       "    <tr>\n",
       "      <th>0</th>\n",
       "      <td>4</td>\n",
       "      <td>1</td>\n",
       "    </tr>\n",
       "    <tr>\n",
       "      <th>2</th>\n",
       "      <td>4</td>\n",
       "      <td>1</td>\n",
       "    </tr>\n",
       "    <tr>\n",
       "      <th>3</th>\n",
       "      <td>4</td>\n",
       "      <td>1</td>\n",
       "    </tr>\n",
       "    <tr>\n",
       "      <th>4</th>\n",
       "      <td>3</td>\n",
       "      <td>1</td>\n",
       "    </tr>\n",
       "    <tr>\n",
       "      <th>5</th>\n",
       "      <td>4</td>\n",
       "      <td>1</td>\n",
       "    </tr>\n",
       "  </tbody>\n",
       "</table>\n",
       "</div>"
      ],
      "text/plain": [
       "   work_type  stroke\n",
       "0          4       1\n",
       "2          4       1\n",
       "3          4       1\n",
       "4          3       1\n",
       "5          4       1"
      ]
     },
     "execution_count": 211,
     "metadata": {},
     "output_type": "execute_result"
    }
   ],
   "source": [
    "healthRwork.head()\n",
    "\n",
    "## with 0 represents Never_worked, 1 represents Govt_job, 2 represents children, 3 represents self-employed and 4 represents the private sector"
   ]
  },
  {
   "cell_type": "markdown",
   "id": "c6c4049e",
   "metadata": {},
   "source": [
    "# Undersampling of healthRwork dataset "
   ]
  },
  {
   "cell_type": "code",
   "execution_count": 212,
   "id": "7e77ce26",
   "metadata": {},
   "outputs": [
    {
     "name": "stderr",
     "output_type": "stream",
     "text": [
      "C:\\Users\\jmubalutila\\Anaconda3\\lib\\site-packages\\seaborn\\_decorators.py:36: FutureWarning: Pass the following variable as a keyword arg: x. From version 0.12, the only valid positional argument will be `data`, and passing other arguments without an explicit keyword will result in an error or misinterpretation.\n",
      "  warnings.warn(\n"
     ]
    },
    {
     "data": {
      "image/png": "[encoded data removed]",
      "text/plain": [
       "<Figure size 576x576 with 1 Axes>"
      ]
     },
     "metadata": {},
     "output_type": "display_data"
    }
   ],
   "source": [
    "# Shuffle the Dataset.\n",
    "shuffled_healthRwork = healthRwork.sample(frac=1,random_state=4)\n",
    "\n",
    "# Put all the smoker class in a separate dataset.\n",
    "Neverworked_healthRwork = shuffled_healthRwork.loc[shuffled_healthRwork['work_type'] == 0]\n",
    "\n",
    "#Randomly select observations from the smoker classes (majority classes)\n",
    "Govtjob_healthRwork = shuffled_healthRwork.loc[shuffled_healthRwork['work_type'] == 1].sample(n=22,random_state=42)\n",
    "children_healthRwork = shuffled_healthRwork.loc[shuffled_healthRwork['work_type'] == 2].sample(n=22,random_state=42)\n",
    "selfemployed_healthRwork = shuffled_healthRwork.loc[shuffled_healthRwork['work_type'] == 3].sample(n=22,random_state=42)\n",
    "private_healthRwork = shuffled_healthRwork.loc[shuffled_healthRwork['work_type'] == 4].sample(n=22, random_state=42)\n",
    "\n",
    "# Concatenate both dataframes again\n",
    "normalized_healthRwork = pd.concat([Neverworked_healthRwork, Govtjob_healthRwork, children_healthRwork, selfemployed_healthRwork,private_healthRwork])\n",
    "\n",
    "#plot the dataset after the undersampling\n",
    "plt.figure(figsize=(8, 8))\n",
    "sns.countplot('work_type', data=normalized_healthRwork)\n",
    "plt.title('Balanced Work Type')\n",
    "plt.show()"
   ]
  },
  {
   "cell_type": "code",
   "execution_count": 213,
   "id": "4a5f1557",
   "metadata": {},
   "outputs": [
    {
     "data": {
      "text/html": [
       "<div>\n",
       "<style scoped>\n",
       "    .dataframe tbody tr th:only-of-type {\n",
       "        vertical-align: middle;\n",
       "    }\n",
       "\n",
       "    .dataframe tbody tr th {\n",
       "        vertical-align: top;\n",
       "    }\n",
       "\n",
       "    .dataframe thead th {\n",
       "        text-align: right;\n",
       "    }\n",
       "</style>\n",
       "<table border=\"1\" class=\"dataframe\">\n",
       "  <thead>\n",
       "    <tr style=\"text-align: right;\">\n",
       "      <th></th>\n",
       "      <th>work_type</th>\n",
       "      <th>stroke</th>\n",
       "    </tr>\n",
       "  </thead>\n",
       "  <tbody>\n",
       "    <tr>\n",
       "      <th>3468</th>\n",
       "      <td>0</td>\n",
       "      <td>0</td>\n",
       "    </tr>\n",
       "    <tr>\n",
       "      <th>4068</th>\n",
       "      <td>0</td>\n",
       "      <td>0</td>\n",
       "    </tr>\n",
       "    <tr>\n",
       "      <th>1789</th>\n",
       "      <td>0</td>\n",
       "      <td>0</td>\n",
       "    </tr>\n",
       "    <tr>\n",
       "      <th>1462</th>\n",
       "      <td>0</td>\n",
       "      <td>0</td>\n",
       "    </tr>\n",
       "    <tr>\n",
       "      <th>3196</th>\n",
       "      <td>0</td>\n",
       "      <td>0</td>\n",
       "    </tr>\n",
       "  </tbody>\n",
       "</table>\n",
       "</div>"
      ],
      "text/plain": [
       "      work_type  stroke\n",
       "3468          0       0\n",
       "4068          0       0\n",
       "1789          0       0\n",
       "1462          0       0\n",
       "3196          0       0"
      ]
     },
     "execution_count": 213,
     "metadata": {},
     "output_type": "execute_result"
    }
   ],
   "source": [
    "normalized_healthRwork.head()"
   ]
  },
  {
   "cell_type": "code",
   "execution_count": 214,
   "id": "3a943f32",
   "metadata": {},
   "outputs": [
    {
     "data": {
      "text/plain": [
       "work_type  stroke\n",
       "0          0         22\n",
       "1          0         22\n",
       "2          0         22\n",
       "4          0         22\n",
       "3          0         18\n",
       "           1          4\n",
       "dtype: int64"
      ]
     },
     "execution_count": 214,
     "metadata": {},
     "output_type": "execute_result"
    }
   ],
   "source": [
    "normalized_healthRwork.value_counts()"
   ]
  },
  {
   "cell_type": "markdown",
   "id": "68fbc9fa",
   "metadata": {},
   "source": [
    "## Train test split of normalized_healthRwork dataset"
   ]
  },
  {
   "cell_type": "code",
   "execution_count": 215,
   "id": "2f5a7db8",
   "metadata": {},
   "outputs": [],
   "source": [
    "## Determine x and y variables\n",
    "\n",
    "x=normalized_healthRwork.drop('stroke', axis=1)\n",
    "y=normalized_healthRwork['stroke']"
   ]
  },
  {
   "cell_type": "code",
   "execution_count": 216,
   "id": "41166d3f",
   "metadata": {},
   "outputs": [
    {
     "data": {
      "text/plain": [
       "((88, 1), (88,), (22, 1), (22,))"
      ]
     },
     "execution_count": 216,
     "metadata": {},
     "output_type": "execute_result"
    }
   ],
   "source": [
    "from sklearn.model_selection import train_test_split\n",
    "x_train,x_test,y_train,y_test=train_test_split(x,y,test_size=0.2,random_state=42)\n",
    "x_train.shape, y_train.shape, x_test.shape, y_test.shape"
   ]
  },
  {
   "cell_type": "markdown",
   "id": "116f0a77",
   "metadata": {},
   "source": [
    "## Train the Random Forest Model"
   ]
  },
  {
   "cell_type": "code",
   "execution_count": 217,
   "id": "466c5152",
   "metadata": {},
   "outputs": [
    {
     "name": "stdout",
     "output_type": "stream",
     "text": [
      "              precision    recall  f1-score   support\n",
      "\n",
      "           0       0.95      1.00      0.98        21\n",
      "           1       0.00      0.00      0.00         1\n",
      "\n",
      "    accuracy                           0.95        22\n",
      "   macro avg       0.48      0.50      0.49        22\n",
      "weighted avg       0.91      0.95      0.93        22\n",
      "\n",
      "Training Score: 96.5909090909091\n",
      "Test Score: 95.45454545454545\n"
     ]
    },
    {
     "name": "stderr",
     "output_type": "stream",
     "text": [
      "C:\\Users\\jmubalutila\\Anaconda3\\lib\\site-packages\\sklearn\\metrics\\_classification.py:1318: UndefinedMetricWarning: Precision and F-score are ill-defined and being set to 0.0 in labels with no predicted samples. Use `zero_division` parameter to control this behavior.\n",
      "  _warn_prf(average, modifier, msg_start, len(result))\n",
      "C:\\Users\\jmubalutila\\Anaconda3\\lib\\site-packages\\sklearn\\metrics\\_classification.py:1318: UndefinedMetricWarning: Precision and F-score are ill-defined and being set to 0.0 in labels with no predicted samples. Use `zero_division` parameter to control this behavior.\n",
      "  _warn_prf(average, modifier, msg_start, len(result))\n",
      "C:\\Users\\jmubalutila\\Anaconda3\\lib\\site-packages\\sklearn\\metrics\\_classification.py:1318: UndefinedMetricWarning: Precision and F-score are ill-defined and being set to 0.0 in labels with no predicted samples. Use `zero_division` parameter to control this behavior.\n",
      "  _warn_prf(average, modifier, msg_start, len(result))\n"
     ]
    }
   ],
   "source": [
    "rf = RandomForestClassifier()\n",
    "baseline_model = rf.fit(x_train, y_train)\n",
    "baseline_prediction = baseline_model.predict(x_test)\n",
    "\n",
    "# check the model peformance\n",
    "print(classification_report(y_test, baseline_prediction))\n",
    "print(\"Training Score:\",rf.score(x_train,y_train)*100)\n",
    "print(\"Test Score:\",rf.score(x_test, y_test)*100)"
   ]
  },
  {
   "cell_type": "markdown",
   "id": "4b0a2fdb",
   "metadata": {},
   "source": [
    "### The KNN algorithm is accurate at approximately 95% about predicting the non occurence of a stroke. however it failed to provide a model for the occurence of a stroke. "
   ]
  },
  {
   "cell_type": "markdown",
   "id": "582635e7",
   "metadata": {},
   "source": [
    "# Oversampling of HealthRsmoking dataset using BalancedBaggingClassifier"
   ]
  },
  {
   "cell_type": "code",
   "execution_count": 218,
   "id": "6874badc",
   "metadata": {},
   "outputs": [
    {
     "name": "stdout",
     "output_type": "stream",
     "text": [
      "              precision    recall  f1-score   support\n",
      "\n",
      "           0       0.98      0.27      0.42       929\n",
      "           1       0.07      0.91      0.12        53\n",
      "\n",
      "    accuracy                           0.30       982\n",
      "   macro avg       0.52      0.59      0.27       982\n",
      "weighted avg       0.93      0.30      0.40       982\n",
      "\n"
     ]
    }
   ],
   "source": [
    "from imblearn.ensemble import BalancedBaggingClassifier\n",
    "from sklearn.tree import DecisionTreeClassifier\n",
    "\n",
    "#Create an object of the classifier.\n",
    "bbc = BalancedBaggingClassifier(base_estimator=DecisionTreeClassifier(),\n",
    "                                sampling_strategy='auto',\n",
    "                                replacement=False,\n",
    "                                random_state=0)\n",
    "\n",
    "#Determine x and y variables\n",
    "y = healthRwork['stroke']\n",
    "x = healthRwork.drop(['stroke'], axis=1, inplace=False)\n",
    "\n",
    "#Train test split the Classifier\n",
    "from sklearn.model_selection import train_test_split\n",
    "x_train,x_test,y_train,y_test=train_test_split(x,y,test_size=0.2,random_state=42)\n",
    "x_train.shape, y_train.shape, x_test.shape, y_test.shape\n",
    "\n",
    "#Train the Random Forest.\n",
    "rf = RandomForestClassifier()\n",
    "baseline_model = bbc.fit(x_train, y_train)\n",
    "baseline_prediction = bbc.predict(x_test)\n",
    "\n",
    "# check the model peformance\n",
    "print(classification_report(y_test, baseline_prediction))"
   ]
  },
  {
   "cell_type": "markdown",
   "id": "19d7acc7",
   "metadata": {},
   "source": [
    "### The KNN algorithm is accurate at approximately 7% about predicting the outcome of a stroke. The model is also accurate at approximately 98% about predicting the non occurence of a stroke."
   ]
  },
  {
   "cell_type": "markdown",
   "id": "2ef6f36d",
   "metadata": {},
   "source": [
    "# Creating healthR dataset for Residence type"
   ]
  },
  {
   "cell_type": "code",
   "execution_count": 250,
   "id": "00d58c1f",
   "metadata": {},
   "outputs": [],
   "source": [
    "healthRresidence = healthR.drop(['age','gender','hypertension','heart_disease','ever_married','smoking_status','work_type','avg_glucose_level','bmi','smoking_status'],axis=1)"
   ]
  },
  {
   "cell_type": "code",
   "execution_count": 251,
   "id": "d48620ab",
   "metadata": {},
   "outputs": [
    {
     "data": {
      "text/html": [
       "<div>\n",
       "<style scoped>\n",
       "    .dataframe tbody tr th:only-of-type {\n",
       "        vertical-align: middle;\n",
       "    }\n",
       "\n",
       "    .dataframe tbody tr th {\n",
       "        vertical-align: top;\n",
       "    }\n",
       "\n",
       "    .dataframe thead th {\n",
       "        text-align: right;\n",
       "    }\n",
       "</style>\n",
       "<table border=\"1\" class=\"dataframe\">\n",
       "  <thead>\n",
       "    <tr style=\"text-align: right;\">\n",
       "      <th></th>\n",
       "      <th>Residence_type</th>\n",
       "      <th>stroke</th>\n",
       "    </tr>\n",
       "  </thead>\n",
       "  <tbody>\n",
       "    <tr>\n",
       "      <th>0</th>\n",
       "      <td>1</td>\n",
       "      <td>1</td>\n",
       "    </tr>\n",
       "    <tr>\n",
       "      <th>2</th>\n",
       "      <td>0</td>\n",
       "      <td>1</td>\n",
       "    </tr>\n",
       "    <tr>\n",
       "      <th>3</th>\n",
       "      <td>1</td>\n",
       "      <td>1</td>\n",
       "    </tr>\n",
       "    <tr>\n",
       "      <th>4</th>\n",
       "      <td>0</td>\n",
       "      <td>1</td>\n",
       "    </tr>\n",
       "    <tr>\n",
       "      <th>5</th>\n",
       "      <td>1</td>\n",
       "      <td>1</td>\n",
       "    </tr>\n",
       "  </tbody>\n",
       "</table>\n",
       "</div>"
      ],
      "text/plain": [
       "   Residence_type  stroke\n",
       "0               1       1\n",
       "2               0       1\n",
       "3               1       1\n",
       "4               0       1\n",
       "5               1       1"
      ]
     },
     "execution_count": 251,
     "metadata": {},
     "output_type": "execute_result"
    }
   ],
   "source": [
    "healthRresidence.head()\n",
    "\n",
    "## For residence type, 0 represents Rural and 1 represents Urban\n",
    "## For stroke, 0 represents the non occurence of a stroke and 1 represents having a stroke"
   ]
  },
  {
   "cell_type": "markdown",
   "id": "69c0ea89",
   "metadata": {},
   "source": [
    "# Undersampling of healthRresidence dataset "
   ]
  },
  {
   "cell_type": "code",
   "execution_count": 252,
   "id": "f6d19de0",
   "metadata": {},
   "outputs": [
    {
     "name": "stderr",
     "output_type": "stream",
     "text": [
      "C:\\Users\\jmubalutila\\Anaconda3\\lib\\site-packages\\seaborn\\_decorators.py:36: FutureWarning: Pass the following variable as a keyword arg: x. From version 0.12, the only valid positional argument will be `data`, and passing other arguments without an explicit keyword will result in an error or misinterpretation.\n",
      "  warnings.warn(\n"
     ]
    },
    {
     "data": {
      "image/png": "[encoded data removed]",
      "text/plain": [
       "<Figure size 576x576 with 1 Axes>"
      ]
     },
     "metadata": {},
     "output_type": "display_data"
    }
   ],
   "source": [
    "# Shuffle the Dataset.\n",
    "shuffled_healthRresidence = healthRresidence.sample(frac=1,random_state=4)\n",
    "\n",
    "# Put all the smoker class in a separate dataset.\n",
    "Rural_healthRresidence = shuffled_healthRresidence.loc[shuffled_healthRresidence['Residence_type'] == 0]\n",
    "\n",
    "#Randomly select observations from the smoker classes (majority classes)\n",
    "Urban_healthRresidence = shuffled_healthRresidence.loc[shuffled_healthRresidence['Residence_type'] == 1].sample(n=2419,random_state=42)\n",
    "\n",
    "\n",
    "# Concatenate both dataframes again\n",
    "normalized_healthRresidence = pd.concat([Rural_healthRresidence, Urban_healthRresidence])\n",
    "\n",
    "#plot the dataset after the undersampling\n",
    "plt.figure(figsize=(8, 8))\n",
    "sns.countplot('Residence_type', data=normalized_healthRresidence)\n",
    "plt.title('Balanced Residence Type')\n",
    "plt.show()"
   ]
  },
  {
   "cell_type": "code",
   "execution_count": 253,
   "id": "52e60ef6",
   "metadata": {},
   "outputs": [
    {
     "data": {
      "text/html": [
       "<div>\n",
       "<style scoped>\n",
       "    .dataframe tbody tr th:only-of-type {\n",
       "        vertical-align: middle;\n",
       "    }\n",
       "\n",
       "    .dataframe tbody tr th {\n",
       "        vertical-align: top;\n",
       "    }\n",
       "\n",
       "    .dataframe thead th {\n",
       "        text-align: right;\n",
       "    }\n",
       "</style>\n",
       "<table border=\"1\" class=\"dataframe\">\n",
       "  <thead>\n",
       "    <tr style=\"text-align: right;\">\n",
       "      <th></th>\n",
       "      <th>Residence_type</th>\n",
       "      <th>stroke</th>\n",
       "    </tr>\n",
       "  </thead>\n",
       "  <tbody>\n",
       "    <tr>\n",
       "      <th>4209</th>\n",
       "      <td>0</td>\n",
       "      <td>0</td>\n",
       "    </tr>\n",
       "    <tr>\n",
       "      <th>2472</th>\n",
       "      <td>0</td>\n",
       "      <td>0</td>\n",
       "    </tr>\n",
       "    <tr>\n",
       "      <th>2671</th>\n",
       "      <td>0</td>\n",
       "      <td>0</td>\n",
       "    </tr>\n",
       "    <tr>\n",
       "      <th>3468</th>\n",
       "      <td>0</td>\n",
       "      <td>0</td>\n",
       "    </tr>\n",
       "    <tr>\n",
       "      <th>2271</th>\n",
       "      <td>0</td>\n",
       "      <td>0</td>\n",
       "    </tr>\n",
       "  </tbody>\n",
       "</table>\n",
       "</div>"
      ],
      "text/plain": [
       "      Residence_type  stroke\n",
       "4209               0       0\n",
       "2472               0       0\n",
       "2671               0       0\n",
       "3468               0       0\n",
       "2271               0       0"
      ]
     },
     "execution_count": 253,
     "metadata": {},
     "output_type": "execute_result"
    }
   ],
   "source": [
    "normalized_healthRresidence.head()"
   ]
  },
  {
   "cell_type": "code",
   "execution_count": 254,
   "id": "812c94ce",
   "metadata": {},
   "outputs": [
    {
     "data": {
      "text/plain": [
       "Residence_type  stroke\n",
       "0               0         2318\n",
       "1               0         2314\n",
       "                1          105\n",
       "0               1          100\n",
       "dtype: int64"
      ]
     },
     "execution_count": 254,
     "metadata": {},
     "output_type": "execute_result"
    }
   ],
   "source": [
    "normalized_healthRresidence.value_counts()"
   ]
  },
  {
   "cell_type": "markdown",
   "id": "e140b8f9",
   "metadata": {},
   "source": [
    "## Train test split of normalized_healthRresidence dataset"
   ]
  },
  {
   "cell_type": "code",
   "execution_count": 255,
   "id": "ac139d6d",
   "metadata": {},
   "outputs": [
    {
     "data": {
      "text/plain": [
       "((3869, 1), (3869,), (968, 1), (968,))"
      ]
     },
     "execution_count": 255,
     "metadata": {},
     "output_type": "execute_result"
    }
   ],
   "source": [
    "## Determine x and y variables\n",
    "\n",
    "x=normalized_healthRresidence.drop('stroke', axis=1)\n",
    "y=normalized_healthRresidence['stroke']\n",
    "\n",
    "from sklearn.model_selection import train_test_split\n",
    "x_train,x_test,y_train,y_test=train_test_split(x,y,test_size=0.2,random_state=42)\n",
    "x_train.shape, y_train.shape, x_test.shape, y_test.shape"
   ]
  },
  {
   "cell_type": "markdown",
   "id": "bc5be881",
   "metadata": {},
   "source": [
    "## Train the Random Forest Model"
   ]
  },
  {
   "cell_type": "code",
   "execution_count": 256,
   "id": "3b928063",
   "metadata": {},
   "outputs": [
    {
     "name": "stdout",
     "output_type": "stream",
     "text": [
      "              precision    recall  f1-score   support\n",
      "\n",
      "           0       0.97      1.00      0.98       935\n",
      "           1       0.00      0.00      0.00        33\n",
      "\n",
      "    accuracy                           0.97       968\n",
      "   macro avg       0.48      0.50      0.49       968\n",
      "weighted avg       0.93      0.97      0.95       968\n",
      "\n",
      "Training Score: 95.5544068234686\n",
      "Test Score: 96.5909090909091\n"
     ]
    },
    {
     "name": "stderr",
     "output_type": "stream",
     "text": [
      "C:\\Users\\jmubalutila\\Anaconda3\\lib\\site-packages\\sklearn\\metrics\\_classification.py:1318: UndefinedMetricWarning: Precision and F-score are ill-defined and being set to 0.0 in labels with no predicted samples. Use `zero_division` parameter to control this behavior.\n",
      "  _warn_prf(average, modifier, msg_start, len(result))\n",
      "C:\\Users\\jmubalutila\\Anaconda3\\lib\\site-packages\\sklearn\\metrics\\_classification.py:1318: UndefinedMetricWarning: Precision and F-score are ill-defined and being set to 0.0 in labels with no predicted samples. Use `zero_division` parameter to control this behavior.\n",
      "  _warn_prf(average, modifier, msg_start, len(result))\n",
      "C:\\Users\\jmubalutila\\Anaconda3\\lib\\site-packages\\sklearn\\metrics\\_classification.py:1318: UndefinedMetricWarning: Precision and F-score are ill-defined and being set to 0.0 in labels with no predicted samples. Use `zero_division` parameter to control this behavior.\n",
      "  _warn_prf(average, modifier, msg_start, len(result))\n"
     ]
    }
   ],
   "source": [
    "rf = RandomForestClassifier()\n",
    "baseline_model = rf.fit(x_train, y_train)\n",
    "baseline_prediction = baseline_model.predict(x_test)\n",
    "\n",
    "# check the model peformance\n",
    "print(classification_report(y_test, baseline_prediction))\n",
    "print(\"Training Score:\",rf.score(x_train,y_train)*100)\n",
    "print(\"Test Score:\",rf.score(x_test, y_test)*100)"
   ]
  },
  {
   "cell_type": "markdown",
   "id": "bdbc5043",
   "metadata": {},
   "source": [
    "### The KNN algorithm is accurate at approximately 96% about predicting the non occurence of a stroke. however it failed to provide a model for the occurence of a stroke. "
   ]
  },
  {
   "cell_type": "markdown",
   "id": "b36115a5",
   "metadata": {},
   "source": [
    "## Using SMOTE classifier to build a model"
   ]
  },
  {
   "cell_type": "code",
   "execution_count": 257,
   "id": "04d1e070",
   "metadata": {},
   "outputs": [],
   "source": [
    "from imblearn.over_sampling import SMOTE\n",
    "\n",
    "# Resample the minority class. You can change the strategy to 'auto' if you are not sure.\n",
    "sm = SMOTE(sampling_strategy='minority', random_state=7)\n",
    "\n",
    "# Fit the model to generate the data.\n",
    "oversampled_trainX, oversampled_trainY = sm.fit_resample(healthRresidence.drop('stroke', axis=1), healthRresidence['stroke'])\n",
    "oversampled_train = pd.concat([pd.DataFrame(oversampled_trainX), pd.DataFrame(oversampled_trainY)], axis=1)\n",
    "oversampled_train.columns = normalized_healthRresidence.columns"
   ]
  },
  {
   "cell_type": "code",
   "execution_count": 258,
   "id": "954b7ca7",
   "metadata": {},
   "outputs": [
    {
     "data": {
      "text/html": [
       "<div>\n",
       "<style scoped>\n",
       "    .dataframe tbody tr th:only-of-type {\n",
       "        vertical-align: middle;\n",
       "    }\n",
       "\n",
       "    .dataframe tbody tr th {\n",
       "        vertical-align: top;\n",
       "    }\n",
       "\n",
       "    .dataframe thead th {\n",
       "        text-align: right;\n",
       "    }\n",
       "</style>\n",
       "<table border=\"1\" class=\"dataframe\">\n",
       "  <thead>\n",
       "    <tr style=\"text-align: right;\">\n",
       "      <th></th>\n",
       "      <th>Residence_type</th>\n",
       "      <th>stroke</th>\n",
       "    </tr>\n",
       "  </thead>\n",
       "  <tbody>\n",
       "    <tr>\n",
       "      <th>0</th>\n",
       "      <td>1</td>\n",
       "      <td>1</td>\n",
       "    </tr>\n",
       "    <tr>\n",
       "      <th>1</th>\n",
       "      <td>0</td>\n",
       "      <td>1</td>\n",
       "    </tr>\n",
       "    <tr>\n",
       "      <th>2</th>\n",
       "      <td>1</td>\n",
       "      <td>1</td>\n",
       "    </tr>\n",
       "    <tr>\n",
       "      <th>3</th>\n",
       "      <td>0</td>\n",
       "      <td>1</td>\n",
       "    </tr>\n",
       "    <tr>\n",
       "      <th>4</th>\n",
       "      <td>1</td>\n",
       "      <td>1</td>\n",
       "    </tr>\n",
       "  </tbody>\n",
       "</table>\n",
       "</div>"
      ],
      "text/plain": [
       "   Residence_type  stroke\n",
       "0               1       1\n",
       "1               0       1\n",
       "2               1       1\n",
       "3               0       1\n",
       "4               1       1"
      ]
     },
     "execution_count": 258,
     "metadata": {},
     "output_type": "execute_result"
    }
   ],
   "source": [
    "oversampled_train.head()"
   ]
  },
  {
   "cell_type": "code",
   "execution_count": 259,
   "id": "6ea985d2",
   "metadata": {},
   "outputs": [
    {
     "data": {
      "text/plain": [
       "Residence_type  stroke\n",
       "1               1         2473\n",
       "                0         2381\n",
       "0               0         2318\n",
       "                1         2226\n",
       "dtype: int64"
      ]
     },
     "execution_count": 259,
     "metadata": {},
     "output_type": "execute_result"
    }
   ],
   "source": [
    "oversampled_train.value_counts()"
   ]
  },
  {
   "cell_type": "markdown",
   "id": "95210f3c",
   "metadata": {},
   "source": [
    "## Train Test split and Random Forest of Oversampled_train"
   ]
  },
  {
   "cell_type": "code",
   "execution_count": 260,
   "id": "8dc5c73d",
   "metadata": {},
   "outputs": [
    {
     "name": "stdout",
     "output_type": "stream",
     "text": [
      "              precision    recall  f1-score   support\n",
      "\n",
      "           0       0.50      0.49      0.49       922\n",
      "           1       0.52      0.53      0.52       958\n",
      "\n",
      "    accuracy                           0.51      1880\n",
      "   macro avg       0.51      0.51      0.51      1880\n",
      "weighted avg       0.51      0.51      0.51      1880\n",
      "\n",
      "Training Score: 51.064112795956376\n",
      "Test Score: 50.638297872340424\n"
     ]
    }
   ],
   "source": [
    "## Determine x and y variables\n",
    "x=oversampled_train.drop('stroke', axis=1)\n",
    "y=oversampled_train['stroke']\n",
    "\n",
    "## Train test split\n",
    "from sklearn.model_selection import train_test_split\n",
    "x_train,x_test,y_train,y_test=train_test_split(x,y,test_size=0.2,random_state=42)\n",
    "x_train.shape, y_train.shape, x_test.shape, y_test.shape\n",
    "\n",
    "##Train the Random Forest Model\n",
    "rf = RandomForestClassifier()\n",
    "baseline_model = rf.fit(x_train, y_train)\n",
    "baseline_prediction = baseline_model.predict(x_test)\n",
    "\n",
    "# check the model peformance\n",
    "print(classification_report(y_test, baseline_prediction))\n",
    "print(\"Training Score:\",rf.score(x_train,y_train)*100)\n",
    "print(\"Test Score:\",rf.score(x_test, y_test)*100)"
   ]
  },
  {
   "cell_type": "markdown",
   "id": "4574869d",
   "metadata": {},
   "source": [
    "### Using SMOTE classifier, the performance model increased and show approximately an accuracy of 51% for predicting the occurence of a stroke. "
   ]
  },
  {
   "cell_type": "markdown",
   "id": "af78c664",
   "metadata": {},
   "source": [
    "# Oversampling of HealthRresidence dataset using BalancedBaggingClassifier"
   ]
  },
  {
   "cell_type": "code",
   "execution_count": 261,
   "id": "5caf6840",
   "metadata": {},
   "outputs": [
    {
     "name": "stdout",
     "output_type": "stream",
     "text": [
      "              precision    recall  f1-score   support\n",
      "\n",
      "           0       0.94      0.48      0.64       929\n",
      "           1       0.05      0.51      0.10        53\n",
      "\n",
      "    accuracy                           0.48       982\n",
      "   macro avg       0.50      0.49      0.37       982\n",
      "weighted avg       0.90      0.48      0.61       982\n",
      "\n"
     ]
    }
   ],
   "source": [
    "from imblearn.ensemble import BalancedBaggingClassifier\n",
    "from sklearn.tree import DecisionTreeClassifier\n",
    "\n",
    "#Create an object of the classifier.\n",
    "bbc = BalancedBaggingClassifier(base_estimator=DecisionTreeClassifier(),\n",
    "                                sampling_strategy='auto',\n",
    "                                replacement=False,\n",
    "                                random_state=0)\n",
    "\n",
    "#Determine x and y variables\n",
    "y = healthRresidence['stroke']\n",
    "x = healthRresidence.drop(['stroke'], axis=1, inplace=False)\n",
    "\n",
    "#Train test split the Classifier\n",
    "from sklearn.model_selection import train_test_split\n",
    "x_train,x_test,y_train,y_test=train_test_split(x,y,test_size=0.2,random_state=42)\n",
    "x_train.shape, y_train.shape, x_test.shape, y_test.shape\n",
    "\n",
    "#Train the Random Forest.\n",
    "rf = RandomForestClassifier()\n",
    "baseline_model = bbc.fit(x_train, y_train)\n",
    "baseline_prediction = bbc.predict(x_test)\n",
    "\n",
    "# check the model peformance\n",
    "print(classification_report(y_test, baseline_prediction))"
   ]
  },
  {
   "cell_type": "markdown",
   "id": "d7102b0b",
   "metadata": {},
   "source": [
    "### The KNN algorithm is accurate at approximately 5% about predicting the outcome of a stroke. The model is also accurate at approximately 94% about predicting the non occurence of a stroke."
   ]
  },
  {
   "cell_type": "markdown",
   "id": "258999f9",
   "metadata": {},
   "source": [
    "# Creating healthR dataset for married and non married patients"
   ]
  },
  {
   "cell_type": "code",
   "execution_count": 262,
   "id": "0c61e026",
   "metadata": {},
   "outputs": [],
   "source": [
    "healthRmarried = healthR.drop(['age','gender','hypertension','heart_disease','Residence_type','smoking_status','work_type','avg_glucose_level','bmi','smoking_status'],axis=1)"
   ]
  },
  {
   "cell_type": "code",
   "execution_count": 263,
   "id": "b746f3df",
   "metadata": {},
   "outputs": [
    {
     "data": {
      "text/html": [
       "<div>\n",
       "<style scoped>\n",
       "    .dataframe tbody tr th:only-of-type {\n",
       "        vertical-align: middle;\n",
       "    }\n",
       "\n",
       "    .dataframe tbody tr th {\n",
       "        vertical-align: top;\n",
       "    }\n",
       "\n",
       "    .dataframe thead th {\n",
       "        text-align: right;\n",
       "    }\n",
       "</style>\n",
       "<table border=\"1\" class=\"dataframe\">\n",
       "  <thead>\n",
       "    <tr style=\"text-align: right;\">\n",
       "      <th></th>\n",
       "      <th>ever_married</th>\n",
       "      <th>stroke</th>\n",
       "    </tr>\n",
       "  </thead>\n",
       "  <tbody>\n",
       "    <tr>\n",
       "      <th>0</th>\n",
       "      <td>1</td>\n",
       "      <td>1</td>\n",
       "    </tr>\n",
       "    <tr>\n",
       "      <th>2</th>\n",
       "      <td>1</td>\n",
       "      <td>1</td>\n",
       "    </tr>\n",
       "    <tr>\n",
       "      <th>3</th>\n",
       "      <td>1</td>\n",
       "      <td>1</td>\n",
       "    </tr>\n",
       "    <tr>\n",
       "      <th>4</th>\n",
       "      <td>1</td>\n",
       "      <td>1</td>\n",
       "    </tr>\n",
       "    <tr>\n",
       "      <th>5</th>\n",
       "      <td>1</td>\n",
       "      <td>1</td>\n",
       "    </tr>\n",
       "  </tbody>\n",
       "</table>\n",
       "</div>"
      ],
      "text/plain": [
       "   ever_married  stroke\n",
       "0             1       1\n",
       "2             1       1\n",
       "3             1       1\n",
       "4             1       1\n",
       "5             1       1"
      ]
     },
     "execution_count": 263,
     "metadata": {},
     "output_type": "execute_result"
    }
   ],
   "source": [
    "healthRmarried.head()\n",
    "\n",
    "## for ever_married feature, 0 represents not married and 1 represents married couple\n",
    "## for stroke feature, 0 represents not having a stroke and 1 represents having a stroke"
   ]
  },
  {
   "cell_type": "markdown",
   "id": "09cfe545",
   "metadata": {},
   "source": [
    "# Undersampling of healthRmarried dataset "
   ]
  },
  {
   "cell_type": "code",
   "execution_count": 264,
   "id": "7cd700aa",
   "metadata": {},
   "outputs": [
    {
     "name": "stderr",
     "output_type": "stream",
     "text": [
      "C:\\Users\\jmubalutila\\Anaconda3\\lib\\site-packages\\seaborn\\_decorators.py:36: FutureWarning: Pass the following variable as a keyword arg: x. From version 0.12, the only valid positional argument will be `data`, and passing other arguments without an explicit keyword will result in an error or misinterpretation.\n",
      "  warnings.warn(\n"
     ]
    },
    {
     "data": {
      "image/png": "[encoded data removed]",
      "text/plain": [
       "<Figure size 576x576 with 1 Axes>"
      ]
     },
     "metadata": {},
     "output_type": "display_data"
    }
   ],
   "source": [
    "# Shuffle the Dataset.\n",
    "shuffled_healthRmarried = healthRmarried.sample(frac=1,random_state=4)\n",
    "\n",
    "# Put all the smoker class in a separate dataset.\n",
    "nonmarried_healthRmarried = shuffled_healthRmarried.loc[shuffled_healthRmarried['ever_married'] == 0]\n",
    "\n",
    "#Randomly select observations from the smoker classes (majority classes)\n",
    "married_healthRmarried = shuffled_healthRmarried.loc[shuffled_healthRmarried['ever_married'] == 1].sample(n=1705,random_state=42)\n",
    "\n",
    "\n",
    "# Concatenate both dataframes again\n",
    "normalized_healthRmarried = pd.concat([nonmarried_healthRmarried, married_healthRmarried])\n",
    "\n",
    "#plot the dataset after the undersampling\n",
    "plt.figure(figsize=(8, 8))\n",
    "sns.countplot('ever_married', data=normalized_healthRmarried)\n",
    "plt.title('Balanced Ever_Married type')\n",
    "plt.show()"
   ]
  },
  {
   "cell_type": "code",
   "execution_count": 265,
   "id": "a7937287",
   "metadata": {},
   "outputs": [
    {
     "data": {
      "text/html": [
       "<div>\n",
       "<style scoped>\n",
       "    .dataframe tbody tr th:only-of-type {\n",
       "        vertical-align: middle;\n",
       "    }\n",
       "\n",
       "    .dataframe tbody tr th {\n",
       "        vertical-align: top;\n",
       "    }\n",
       "\n",
       "    .dataframe thead th {\n",
       "        text-align: right;\n",
       "    }\n",
       "</style>\n",
       "<table border=\"1\" class=\"dataframe\">\n",
       "  <thead>\n",
       "    <tr style=\"text-align: right;\">\n",
       "      <th></th>\n",
       "      <th>ever_married</th>\n",
       "      <th>stroke</th>\n",
       "    </tr>\n",
       "  </thead>\n",
       "  <tbody>\n",
       "    <tr>\n",
       "      <th>2478</th>\n",
       "      <td>0</td>\n",
       "      <td>0</td>\n",
       "    </tr>\n",
       "    <tr>\n",
       "      <th>2472</th>\n",
       "      <td>0</td>\n",
       "      <td>0</td>\n",
       "    </tr>\n",
       "    <tr>\n",
       "      <th>2671</th>\n",
       "      <td>0</td>\n",
       "      <td>0</td>\n",
       "    </tr>\n",
       "    <tr>\n",
       "      <th>3468</th>\n",
       "      <td>0</td>\n",
       "      <td>0</td>\n",
       "    </tr>\n",
       "    <tr>\n",
       "      <th>2911</th>\n",
       "      <td>0</td>\n",
       "      <td>0</td>\n",
       "    </tr>\n",
       "  </tbody>\n",
       "</table>\n",
       "</div>"
      ],
      "text/plain": [
       "      ever_married  stroke\n",
       "2478             0       0\n",
       "2472             0       0\n",
       "2671             0       0\n",
       "3468             0       0\n",
       "2911             0       0"
      ]
     },
     "execution_count": 265,
     "metadata": {},
     "output_type": "execute_result"
    }
   ],
   "source": [
    "normalized_healthRmarried.head()"
   ]
  },
  {
   "cell_type": "code",
   "execution_count": 266,
   "id": "9926f1f9",
   "metadata": {},
   "outputs": [
    {
     "data": {
      "text/plain": [
       "ever_married  stroke\n",
       "0             0         1681\n",
       "1             0         1604\n",
       "              1          101\n",
       "0             1           23\n",
       "dtype: int64"
      ]
     },
     "execution_count": 266,
     "metadata": {},
     "output_type": "execute_result"
    }
   ],
   "source": [
    "normalized_healthRmarried.value_counts()"
   ]
  },
  {
   "cell_type": "markdown",
   "id": "fd245e5b",
   "metadata": {},
   "source": [
    "## Train test split of normalized_healthRresidence dataset"
   ]
  },
  {
   "cell_type": "code",
   "execution_count": 267,
   "id": "f188a684",
   "metadata": {},
   "outputs": [
    {
     "data": {
      "text/plain": [
       "((2727, 1), (2727,), (682, 1), (682,))"
      ]
     },
     "execution_count": 267,
     "metadata": {},
     "output_type": "execute_result"
    }
   ],
   "source": [
    "## Determine x and y variables\n",
    "\n",
    "x=normalized_healthRmarried.drop('stroke', axis=1)\n",
    "y=normalized_healthRmarried['stroke']\n",
    "\n",
    "from sklearn.model_selection import train_test_split\n",
    "x_train,x_test,y_train,y_test=train_test_split(x,y,test_size=0.2,random_state=42)\n",
    "x_train.shape, y_train.shape, x_test.shape, y_test.shape"
   ]
  },
  {
   "cell_type": "markdown",
   "id": "a4810e41",
   "metadata": {},
   "source": [
    "## Train the Random Forest Model"
   ]
  },
  {
   "cell_type": "code",
   "execution_count": 268,
   "id": "0687b120",
   "metadata": {},
   "outputs": [
    {
     "name": "stdout",
     "output_type": "stream",
     "text": [
      "              precision    recall  f1-score   support\n",
      "\n",
      "           0       0.98      1.00      0.99       667\n",
      "           1       0.00      0.00      0.00        15\n",
      "\n",
      "    accuracy                           0.98       682\n",
      "   macro avg       0.49      0.50      0.49       682\n",
      "weighted avg       0.96      0.98      0.97       682\n",
      "\n",
      "Training Score: 96.002933626696\n",
      "Test Score: 97.80058651026393\n"
     ]
    },
    {
     "name": "stderr",
     "output_type": "stream",
     "text": [
      "C:\\Users\\jmubalutila\\Anaconda3\\lib\\site-packages\\sklearn\\metrics\\_classification.py:1318: UndefinedMetricWarning: Precision and F-score are ill-defined and being set to 0.0 in labels with no predicted samples. Use `zero_division` parameter to control this behavior.\n",
      "  _warn_prf(average, modifier, msg_start, len(result))\n",
      "C:\\Users\\jmubalutila\\Anaconda3\\lib\\site-packages\\sklearn\\metrics\\_classification.py:1318: UndefinedMetricWarning: Precision and F-score are ill-defined and being set to 0.0 in labels with no predicted samples. Use `zero_division` parameter to control this behavior.\n",
      "  _warn_prf(average, modifier, msg_start, len(result))\n",
      "C:\\Users\\jmubalutila\\Anaconda3\\lib\\site-packages\\sklearn\\metrics\\_classification.py:1318: UndefinedMetricWarning: Precision and F-score are ill-defined and being set to 0.0 in labels with no predicted samples. Use `zero_division` parameter to control this behavior.\n",
      "  _warn_prf(average, modifier, msg_start, len(result))\n"
     ]
    }
   ],
   "source": [
    "rf = RandomForestClassifier()\n",
    "baseline_model = rf.fit(x_train, y_train)\n",
    "baseline_prediction = baseline_model.predict(x_test)\n",
    "\n",
    "# check the model peformance\n",
    "print(classification_report(y_test, baseline_prediction))\n",
    "print(\"Training Score:\",rf.score(x_train,y_train)*100)\n",
    "print(\"Test Score:\",rf.score(x_test, y_test)*100)"
   ]
  },
  {
   "cell_type": "markdown",
   "id": "d6308a8a",
   "metadata": {},
   "source": [
    "### This  model failed to predict the occurence of stroke for  married and or unmarried couple. However, it shows an accuracy of approximately 98% for the non occurence of a stroke"
   ]
  },
  {
   "cell_type": "markdown",
   "id": "f1541b5b",
   "metadata": {},
   "source": [
    "## Using SMOTE classifier to build a model"
   ]
  },
  {
   "cell_type": "code",
   "execution_count": 269,
   "id": "8855cd9b",
   "metadata": {},
   "outputs": [],
   "source": [
    "from imblearn.over_sampling import SMOTE\n",
    "\n",
    "# Resample the minority class. You can change the strategy to 'auto' if you are not sure.\n",
    "sm = SMOTE(sampling_strategy='minority', random_state=7)\n",
    "\n",
    "# Fit the model to generate the data.\n",
    "oversampled_trainX, oversampled_trainY = sm.fit_resample(healthRmarried.drop('stroke', axis=1), healthRmarried['stroke'])\n",
    "oversampled_train = pd.concat([pd.DataFrame(oversampled_trainX), pd.DataFrame(oversampled_trainY)], axis=1)\n",
    "oversampled_train.columns = normalized_healthRmarried.columns"
   ]
  },
  {
   "cell_type": "code",
   "execution_count": 270,
   "id": "d138cf00",
   "metadata": {},
   "outputs": [
    {
     "data": {
      "text/html": [
       "<div>\n",
       "<style scoped>\n",
       "    .dataframe tbody tr th:only-of-type {\n",
       "        vertical-align: middle;\n",
       "    }\n",
       "\n",
       "    .dataframe tbody tr th {\n",
       "        vertical-align: top;\n",
       "    }\n",
       "\n",
       "    .dataframe thead th {\n",
       "        text-align: right;\n",
       "    }\n",
       "</style>\n",
       "<table border=\"1\" class=\"dataframe\">\n",
       "  <thead>\n",
       "    <tr style=\"text-align: right;\">\n",
       "      <th></th>\n",
       "      <th>ever_married</th>\n",
       "      <th>stroke</th>\n",
       "    </tr>\n",
       "  </thead>\n",
       "  <tbody>\n",
       "    <tr>\n",
       "      <th>0</th>\n",
       "      <td>1</td>\n",
       "      <td>1</td>\n",
       "    </tr>\n",
       "    <tr>\n",
       "      <th>1</th>\n",
       "      <td>1</td>\n",
       "      <td>1</td>\n",
       "    </tr>\n",
       "    <tr>\n",
       "      <th>2</th>\n",
       "      <td>1</td>\n",
       "      <td>1</td>\n",
       "    </tr>\n",
       "    <tr>\n",
       "      <th>3</th>\n",
       "      <td>1</td>\n",
       "      <td>1</td>\n",
       "    </tr>\n",
       "    <tr>\n",
       "      <th>4</th>\n",
       "      <td>1</td>\n",
       "      <td>1</td>\n",
       "    </tr>\n",
       "  </tbody>\n",
       "</table>\n",
       "</div>"
      ],
      "text/plain": [
       "   ever_married  stroke\n",
       "0             1       1\n",
       "1             1       1\n",
       "2             1       1\n",
       "3             1       1\n",
       "4             1       1"
      ]
     },
     "execution_count": 270,
     "metadata": {},
     "output_type": "execute_result"
    }
   ],
   "source": [
    "oversampled_train.head()"
   ]
  },
  {
   "cell_type": "code",
   "execution_count": 271,
   "id": "45adc257",
   "metadata": {},
   "outputs": [
    {
     "data": {
      "text/plain": [
       "ever_married  stroke\n",
       "1             1         4152\n",
       "              0         3018\n",
       "0             0         1681\n",
       "              1          547\n",
       "dtype: int64"
      ]
     },
     "execution_count": 271,
     "metadata": {},
     "output_type": "execute_result"
    }
   ],
   "source": [
    "oversampled_train.value_counts()"
   ]
  },
  {
   "cell_type": "markdown",
   "id": "b359953b",
   "metadata": {},
   "source": [
    "## Train Test split and Random Forest of Oversampled_train"
   ]
  },
  {
   "cell_type": "code",
   "execution_count": 272,
   "id": "16515be8",
   "metadata": {},
   "outputs": [
    {
     "name": "stdout",
     "output_type": "stream",
     "text": [
      "              precision    recall  f1-score   support\n",
      "\n",
      "           0       0.74      0.35      0.47       922\n",
      "           1       0.58      0.88      0.70       958\n",
      "\n",
      "    accuracy                           0.62      1880\n",
      "   macro avg       0.66      0.62      0.59      1880\n",
      "weighted avg       0.66      0.62      0.59      1880\n",
      "\n",
      "Training Score: 62.07768023410482\n",
      "Test Score: 62.02127659574468\n"
     ]
    }
   ],
   "source": [
    "## Determine x and y variables\n",
    "x=oversampled_train.drop('stroke', axis=1)\n",
    "y=oversampled_train['stroke']\n",
    "\n",
    "## Train test split\n",
    "from sklearn.model_selection import train_test_split\n",
    "x_train,x_test,y_train,y_test=train_test_split(x,y,test_size=0.2,random_state=42)\n",
    "x_train.shape, y_train.shape, x_test.shape, y_test.shape\n",
    "\n",
    "##Train the Random Forest Model\n",
    "rf = RandomForestClassifier()\n",
    "baseline_model = rf.fit(x_train, y_train)\n",
    "baseline_prediction = baseline_model.predict(x_test)\n",
    "\n",
    "# check the model peformance\n",
    "print(classification_report(y_test, baseline_prediction))\n",
    "print(\"Training Score:\",rf.score(x_train,y_train)*100)\n",
    "print(\"Test Score:\",rf.score(x_test, y_test)*100)"
   ]
  },
  {
   "cell_type": "markdown",
   "id": "2b0b5d1d",
   "metadata": {},
   "source": [
    "### Using SMOTE classifier, this model shows an accuracy of approximately 58% about predicting the occurrence of a stroke. "
   ]
  },
  {
   "cell_type": "markdown",
   "id": "0f583643",
   "metadata": {},
   "source": [
    "# Oversampling of HealthRmarried dataset using BalancedBaggingClassifier"
   ]
  },
  {
   "cell_type": "code",
   "execution_count": 273,
   "id": "9e6e82a7",
   "metadata": {},
   "outputs": [
    {
     "name": "stdout",
     "output_type": "stream",
     "text": [
      "              precision    recall  f1-score   support\n",
      "\n",
      "           0       0.98      0.37      0.54       929\n",
      "           1       0.07      0.85      0.13        53\n",
      "\n",
      "    accuracy                           0.40       982\n",
      "   macro avg       0.52      0.61      0.34       982\n",
      "weighted avg       0.93      0.40      0.52       982\n",
      "\n"
     ]
    }
   ],
   "source": [
    "from imblearn.ensemble import BalancedBaggingClassifier\n",
    "from sklearn.tree import DecisionTreeClassifier\n",
    "\n",
    "#Create an object of the classifier.\n",
    "bbc = BalancedBaggingClassifier(base_estimator=DecisionTreeClassifier(),\n",
    "                                sampling_strategy='auto',\n",
    "                                replacement=False,\n",
    "                                random_state=0)\n",
    "\n",
    "#Determine x and y variables\n",
    "y = healthRmarried['stroke']\n",
    "x = healthRmarried.drop(['stroke'], axis=1, inplace=False)\n",
    "\n",
    "#Train test split the Classifier\n",
    "from sklearn.model_selection import train_test_split\n",
    "x_train,x_test,y_train,y_test=train_test_split(x,y,test_size=0.2,random_state=42)\n",
    "x_train.shape, y_train.shape, x_test.shape, y_test.shape\n",
    "\n",
    "#Train the Random Forest.\n",
    "rf = RandomForestClassifier()\n",
    "baseline_model = bbc.fit(x_train, y_train)\n",
    "baseline_prediction = bbc.predict(x_test)\n",
    "\n",
    "# check the model peformance\n",
    "print(classification_report(y_test, baseline_prediction))"
   ]
  },
  {
   "cell_type": "markdown",
   "id": "ff7acc35",
   "metadata": {},
   "source": [
    "### Using BalancedBagging Classifier, this model shows that the accurac of predicting a stroke is about 7%, whereas approximately 98% of accuracy shows the non occurrence of a stroke."
   ]
  },
  {
   "cell_type": "code",
   "execution_count": null,
   "id": "f58d7d01",
   "metadata": {},
   "outputs": [],
   "source": []
  },
  {
   "cell_type": "markdown",
   "id": "e3a3cc19",
   "metadata": {},
   "source": [
    "## Conclusion:\n",
    "# Using the Undersampling method to build our models did not show any conclusive result about predicting the occurence of a stroke\n",
    "# Using the BalancedBagging classifer showed a slight increase of accuracy prediction however. \n",
    "# Using the SMOTE classifier however gave us a better model, however the SMOTE classifier failed to balance the predictor variables but balanced instead the predicted variable (stroke)"
   ]
  },
  {
   "cell_type": "code",
   "execution_count": null,
   "id": "7b713aa0",
   "metadata": {},
   "outputs": [],
   "source": []
  }
 ],
 "metadata": {
  "kernelspec": {
   "display_name": "Python 3",
   "language": "python",
   "name": "python3"
  },
  "language_info": {
   "codemirror_mode": {
    "name": "ipython",
    "version": 3
   },
   "file_extension": ".py",
   "mimetype": "text/x-python",
   "name": "python",
   "nbconvert_exporter": "python",
   "pygments_lexer": "ipython3",
   "version": "3.8.8"
  }
 },
 "nbformat": 4,
 "nbformat_minor": 5
}
